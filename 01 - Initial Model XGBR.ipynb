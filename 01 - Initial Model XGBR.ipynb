{
 "cells": [
  {
   "cell_type": "code",
   "execution_count": 1,
   "id": "135f005e",
   "metadata": {},
   "outputs": [],
   "source": [
    "import pandas as pd"
   ]
  },
  {
   "cell_type": "code",
   "execution_count": 2,
   "id": "a47924a9",
   "metadata": {},
   "outputs": [],
   "source": [
    "df = pd.read_csv('bproperty_bashundhara_RA.csv')"
   ]
  },
  {
   "cell_type": "code",
   "execution_count": 3,
   "id": "5cf072ca",
   "metadata": {},
   "outputs": [
    {
     "data": {
      "text/html": [
       "<div>\n",
       "<style scoped>\n",
       "    .dataframe tbody tr th:only-of-type {\n",
       "        vertical-align: middle;\n",
       "    }\n",
       "\n",
       "    .dataframe tbody tr th {\n",
       "        vertical-align: top;\n",
       "    }\n",
       "\n",
       "    .dataframe thead th {\n",
       "        text-align: right;\n",
       "    }\n",
       "</style>\n",
       "<table border=\"1\" class=\"dataframe\">\n",
       "  <thead>\n",
       "    <tr style=\"text-align: right;\">\n",
       "      <th></th>\n",
       "      <th>dimensions</th>\n",
       "      <th>num_beds</th>\n",
       "      <th>num_baths</th>\n",
       "      <th>house_type</th>\n",
       "      <th>city</th>\n",
       "      <th>location</th>\n",
       "      <th>area_block</th>\n",
       "      <th>description</th>\n",
       "      <th>url</th>\n",
       "      <th>price</th>\n",
       "    </tr>\n",
       "  </thead>\n",
       "  <tbody>\n",
       "    <tr>\n",
       "      <th>0</th>\n",
       "      <td>2,055 sqft</td>\n",
       "      <td>4</td>\n",
       "      <td>4</td>\n",
       "      <td>Apartment</td>\n",
       "      <td>Dhaka</td>\n",
       "      <td>Bashundhara R-A</td>\n",
       "      <td>Block D</td>\n",
       "      <td>2055 Sq Ft Cozy Flat For Rent In Bashundhara R...</td>\n",
       "      <td>/en/property/details-5237946.html</td>\n",
       "      <td>35000.0</td>\n",
       "    </tr>\n",
       "    <tr>\n",
       "      <th>1</th>\n",
       "      <td>1,911 sqft</td>\n",
       "      <td>3</td>\n",
       "      <td>3</td>\n",
       "      <td>Apartment</td>\n",
       "      <td>Dhaka</td>\n",
       "      <td>Bashundhara R-A</td>\n",
       "      <td>Block A</td>\n",
       "      <td>Emanate Your Knack For Gardening By Renting Th...</td>\n",
       "      <td>/en/property/details-3875341.html</td>\n",
       "      <td>45000.0</td>\n",
       "    </tr>\n",
       "    <tr>\n",
       "      <th>2</th>\n",
       "      <td>1,200 sqft</td>\n",
       "      <td>3</td>\n",
       "      <td>3</td>\n",
       "      <td>Apartment</td>\n",
       "      <td>Dhaka</td>\n",
       "      <td>Bashundhara R-A</td>\n",
       "      <td>Block K</td>\n",
       "      <td>To Secure Your Better State Of Living, Conside...</td>\n",
       "      <td>/en/property/details-5182996.html</td>\n",
       "      <td>20000.0</td>\n",
       "    </tr>\n",
       "    <tr>\n",
       "      <th>3</th>\n",
       "      <td>1,910 sqft</td>\n",
       "      <td>3</td>\n",
       "      <td>3</td>\n",
       "      <td>Apartment</td>\n",
       "      <td>Dhaka</td>\n",
       "      <td>Bashundhara R-A</td>\n",
       "      <td>Block A</td>\n",
       "      <td>For Rental Purpose 1910 Sq Ft Commendable Desi...</td>\n",
       "      <td>/en/property/details-3875358.html</td>\n",
       "      <td>45000.0</td>\n",
       "    </tr>\n",
       "    <tr>\n",
       "      <th>4</th>\n",
       "      <td>800 sqft</td>\n",
       "      <td>2</td>\n",
       "      <td>2</td>\n",
       "      <td>Apartment</td>\n",
       "      <td>Dhaka</td>\n",
       "      <td>Bashundhara R-A</td>\n",
       "      <td>Block G</td>\n",
       "      <td>Bright And Cozy Apartment Featuring 800 Sq Ft ...</td>\n",
       "      <td>/en/property/details-3651253.html</td>\n",
       "      <td>18000.0</td>\n",
       "    </tr>\n",
       "  </tbody>\n",
       "</table>\n",
       "</div>"
      ],
      "text/plain": [
       "   dimensions  num_beds  num_baths house_type   city         location  \\\n",
       "0  2,055 sqft         4          4  Apartment  Dhaka  Bashundhara R-A   \n",
       "1  1,911 sqft         3          3  Apartment  Dhaka  Bashundhara R-A   \n",
       "2  1,200 sqft         3          3  Apartment  Dhaka  Bashundhara R-A   \n",
       "3  1,910 sqft         3          3  Apartment  Dhaka  Bashundhara R-A   \n",
       "4    800 sqft         2          2  Apartment  Dhaka  Bashundhara R-A   \n",
       "\n",
       "  area_block                                        description  \\\n",
       "0    Block D  2055 Sq Ft Cozy Flat For Rent In Bashundhara R...   \n",
       "1    Block A  Emanate Your Knack For Gardening By Renting Th...   \n",
       "2    Block K  To Secure Your Better State Of Living, Conside...   \n",
       "3    Block A  For Rental Purpose 1910 Sq Ft Commendable Desi...   \n",
       "4    Block G  Bright And Cozy Apartment Featuring 800 Sq Ft ...   \n",
       "\n",
       "                                 url    price  \n",
       "0  /en/property/details-5237946.html  35000.0  \n",
       "1  /en/property/details-3875341.html  45000.0  \n",
       "2  /en/property/details-5182996.html  20000.0  \n",
       "3  /en/property/details-3875358.html  45000.0  \n",
       "4  /en/property/details-3651253.html  18000.0  "
      ]
     },
     "execution_count": 3,
     "metadata": {},
     "output_type": "execute_result"
    }
   ],
   "source": [
    "df.head()"
   ]
  },
  {
   "cell_type": "markdown",
   "id": "6308a282",
   "metadata": {},
   "source": [
    "# Data Preprocessing"
   ]
  },
  {
   "cell_type": "code",
   "execution_count": 4,
   "id": "a55ed5af",
   "metadata": {},
   "outputs": [],
   "source": [
    "def fix_dimensions(dim):\n",
    "    dim = float(str(dim).replace(' sqft', '').replace(',', ''))\n",
    "    return dim\n",
    "\n",
    "df['dimensions'] = df['dimensions'].apply(fix_dimensions)"
   ]
  },
  {
   "cell_type": "code",
   "execution_count": 5,
   "id": "3c1579dd",
   "metadata": {},
   "outputs": [],
   "source": [
    "df['num_beds'] = df['num_beds'].astype('int64')\n",
    "df['num_baths'] = df['num_baths'].astype('int64')"
   ]
  },
  {
   "cell_type": "code",
   "execution_count": 6,
   "id": "fbe1660b",
   "metadata": {},
   "outputs": [],
   "source": [
    "def fix_blocks(block):\n",
    "    block = str(block).replace('Block ', '').replace('Bashundhara ', '').replace(' Extension', '')\n",
    "    return block\n",
    "\n",
    "df['area_block'] = df['area_block'].apply(fix_blocks)"
   ]
  },
  {
   "cell_type": "code",
   "execution_count": 7,
   "id": "fe26f520",
   "metadata": {},
   "outputs": [],
   "source": [
    "def description_length(desc):\n",
    "    return len(str(desc))\n",
    "\n",
    "df['desc_length'] = df['description'].apply(description_length)"
   ]
  },
  {
   "cell_type": "markdown",
   "id": "4d637c36",
   "metadata": {},
   "source": [
    "# Feature Selection"
   ]
  },
  {
   "cell_type": "code",
   "execution_count": 8,
   "id": "dd4b6efc",
   "metadata": {},
   "outputs": [],
   "source": [
    "df = df[ ['dimensions', 'num_beds', 'num_baths', 'area_block', 'desc_length', 'price'] ].copy()\n",
    "df = df.drop_duplicates()"
   ]
  },
  {
   "cell_type": "code",
   "execution_count": 9,
   "id": "cfee5cdc",
   "metadata": {},
   "outputs": [
    {
     "data": {
      "text/plain": [
       "(1500, 6)"
      ]
     },
     "execution_count": 9,
     "metadata": {},
     "output_type": "execute_result"
    }
   ],
   "source": [
    "df.shape"
   ]
  },
  {
   "cell_type": "code",
   "execution_count": 10,
   "id": "469d0108",
   "metadata": {},
   "outputs": [],
   "source": [
    "feature_col = ['dimensions', 'num_beds', 'num_baths', 'area_block', 'desc_length']\n",
    "target_col = ['price']\n",
    "\n",
    "X = df[feature_col].copy()\n",
    "y = df[target_col].copy()"
   ]
  },
  {
   "cell_type": "markdown",
   "id": "df2eb19d",
   "metadata": {},
   "source": [
    "# One Hot Encoding"
   ]
  },
  {
   "cell_type": "code",
   "execution_count": 11,
   "id": "e919d37b",
   "metadata": {},
   "outputs": [],
   "source": [
    "X = pd.get_dummies(X, prefix='area_block')"
   ]
  },
  {
   "cell_type": "code",
   "execution_count": 12,
   "id": "e02e9c5a",
   "metadata": {},
   "outputs": [
    {
     "data": {
      "text/html": [
       "<div>\n",
       "<style scoped>\n",
       "    .dataframe tbody tr th:only-of-type {\n",
       "        vertical-align: middle;\n",
       "    }\n",
       "\n",
       "    .dataframe tbody tr th {\n",
       "        vertical-align: top;\n",
       "    }\n",
       "\n",
       "    .dataframe thead th {\n",
       "        text-align: right;\n",
       "    }\n",
       "</style>\n",
       "<table border=\"1\" class=\"dataframe\">\n",
       "  <thead>\n",
       "    <tr style=\"text-align: right;\">\n",
       "      <th></th>\n",
       "      <th>dimensions</th>\n",
       "      <th>num_beds</th>\n",
       "      <th>num_baths</th>\n",
       "      <th>desc_length</th>\n",
       "      <th>area_block_A</th>\n",
       "      <th>area_block_B</th>\n",
       "      <th>area_block_C</th>\n",
       "      <th>area_block_D</th>\n",
       "      <th>area_block_E</th>\n",
       "      <th>area_block_F</th>\n",
       "      <th>area_block_G</th>\n",
       "      <th>area_block_H</th>\n",
       "      <th>area_block_I</th>\n",
       "      <th>area_block_J</th>\n",
       "      <th>area_block_K</th>\n",
       "      <th>area_block_L</th>\n",
       "      <th>area_block_Road</th>\n",
       "    </tr>\n",
       "  </thead>\n",
       "  <tbody>\n",
       "    <tr>\n",
       "      <th>0</th>\n",
       "      <td>2055.0</td>\n",
       "      <td>4</td>\n",
       "      <td>4</td>\n",
       "      <td>85</td>\n",
       "      <td>0</td>\n",
       "      <td>0</td>\n",
       "      <td>0</td>\n",
       "      <td>1</td>\n",
       "      <td>0</td>\n",
       "      <td>0</td>\n",
       "      <td>0</td>\n",
       "      <td>0</td>\n",
       "      <td>0</td>\n",
       "      <td>0</td>\n",
       "      <td>0</td>\n",
       "      <td>0</td>\n",
       "      <td>0</td>\n",
       "    </tr>\n",
       "    <tr>\n",
       "      <th>1</th>\n",
       "      <td>1911.0</td>\n",
       "      <td>3</td>\n",
       "      <td>3</td>\n",
       "      <td>116</td>\n",
       "      <td>1</td>\n",
       "      <td>0</td>\n",
       "      <td>0</td>\n",
       "      <td>0</td>\n",
       "      <td>0</td>\n",
       "      <td>0</td>\n",
       "      <td>0</td>\n",
       "      <td>0</td>\n",
       "      <td>0</td>\n",
       "      <td>0</td>\n",
       "      <td>0</td>\n",
       "      <td>0</td>\n",
       "      <td>0</td>\n",
       "    </tr>\n",
       "    <tr>\n",
       "      <th>2</th>\n",
       "      <td>1200.0</td>\n",
       "      <td>3</td>\n",
       "      <td>3</td>\n",
       "      <td>105</td>\n",
       "      <td>0</td>\n",
       "      <td>0</td>\n",
       "      <td>0</td>\n",
       "      <td>0</td>\n",
       "      <td>0</td>\n",
       "      <td>0</td>\n",
       "      <td>0</td>\n",
       "      <td>0</td>\n",
       "      <td>0</td>\n",
       "      <td>0</td>\n",
       "      <td>1</td>\n",
       "      <td>0</td>\n",
       "      <td>0</td>\n",
       "    </tr>\n",
       "    <tr>\n",
       "      <th>3</th>\n",
       "      <td>1910.0</td>\n",
       "      <td>3</td>\n",
       "      <td>3</td>\n",
       "      <td>97</td>\n",
       "      <td>1</td>\n",
       "      <td>0</td>\n",
       "      <td>0</td>\n",
       "      <td>0</td>\n",
       "      <td>0</td>\n",
       "      <td>0</td>\n",
       "      <td>0</td>\n",
       "      <td>0</td>\n",
       "      <td>0</td>\n",
       "      <td>0</td>\n",
       "      <td>0</td>\n",
       "      <td>0</td>\n",
       "      <td>0</td>\n",
       "    </tr>\n",
       "    <tr>\n",
       "      <th>4</th>\n",
       "      <td>800.0</td>\n",
       "      <td>2</td>\n",
       "      <td>2</td>\n",
       "      <td>90</td>\n",
       "      <td>0</td>\n",
       "      <td>0</td>\n",
       "      <td>0</td>\n",
       "      <td>0</td>\n",
       "      <td>0</td>\n",
       "      <td>0</td>\n",
       "      <td>1</td>\n",
       "      <td>0</td>\n",
       "      <td>0</td>\n",
       "      <td>0</td>\n",
       "      <td>0</td>\n",
       "      <td>0</td>\n",
       "      <td>0</td>\n",
       "    </tr>\n",
       "  </tbody>\n",
       "</table>\n",
       "</div>"
      ],
      "text/plain": [
       "   dimensions  num_beds  num_baths  desc_length  area_block_A  area_block_B  \\\n",
       "0      2055.0         4          4           85             0             0   \n",
       "1      1911.0         3          3          116             1             0   \n",
       "2      1200.0         3          3          105             0             0   \n",
       "3      1910.0         3          3           97             1             0   \n",
       "4       800.0         2          2           90             0             0   \n",
       "\n",
       "   area_block_C  area_block_D  area_block_E  area_block_F  area_block_G  \\\n",
       "0             0             1             0             0             0   \n",
       "1             0             0             0             0             0   \n",
       "2             0             0             0             0             0   \n",
       "3             0             0             0             0             0   \n",
       "4             0             0             0             0             1   \n",
       "\n",
       "   area_block_H  area_block_I  area_block_J  area_block_K  area_block_L  \\\n",
       "0             0             0             0             0             0   \n",
       "1             0             0             0             0             0   \n",
       "2             0             0             0             1             0   \n",
       "3             0             0             0             0             0   \n",
       "4             0             0             0             0             0   \n",
       "\n",
       "   area_block_Road  \n",
       "0                0  \n",
       "1                0  \n",
       "2                0  \n",
       "3                0  \n",
       "4                0  "
      ]
     },
     "execution_count": 12,
     "metadata": {},
     "output_type": "execute_result"
    }
   ],
   "source": [
    "X.head()"
   ]
  },
  {
   "cell_type": "markdown",
   "id": "e6eb527f",
   "metadata": {},
   "source": [
    "# Feature Scaling"
   ]
  },
  {
   "cell_type": "code",
   "execution_count": 13,
   "id": "7650f79e",
   "metadata": {},
   "outputs": [],
   "source": [
    "from sklearn.preprocessing import MinMaxScaler\n",
    "\n",
    "scaler = MinMaxScaler()\n",
    "X = scaler.fit_transform(X)"
   ]
  },
  {
   "cell_type": "markdown",
   "id": "4ecb2ab3",
   "metadata": {},
   "source": [
    "# XGBoost Regressor (Base)"
   ]
  },
  {
   "cell_type": "code",
   "execution_count": 14,
   "id": "cf292e3e",
   "metadata": {},
   "outputs": [],
   "source": [
    "from sklearn.model_selection import train_test_split"
   ]
  },
  {
   "cell_type": "code",
   "execution_count": 15,
   "id": "2c812a93",
   "metadata": {},
   "outputs": [],
   "source": [
    "from xgboost import XGBRegressor\n",
    "\n",
    "regressor = XGBRegressor()"
   ]
  },
  {
   "cell_type": "code",
   "execution_count": 16,
   "id": "b10d32fa",
   "metadata": {},
   "outputs": [],
   "source": [
    "X_train, X_test, y_train, y_test = train_test_split(X, y, random_state=42)"
   ]
  },
  {
   "cell_type": "code",
   "execution_count": 17,
   "id": "590f9c05",
   "metadata": {},
   "outputs": [
    {
     "name": "stdout",
     "output_type": "stream",
     "text": [
      "[0]\tvalidation_0-mae:21832.83789\n",
      "[1]\tvalidation_0-mae:15544.86816\n",
      "[2]\tvalidation_0-mae:11196.09863\n",
      "[3]\tvalidation_0-mae:8295.00781\n",
      "[4]\tvalidation_0-mae:6605.25732\n",
      "[5]\tvalidation_0-mae:5638.15869\n",
      "[6]\tvalidation_0-mae:5105.84033\n",
      "[7]\tvalidation_0-mae:4841.57764\n",
      "[8]\tvalidation_0-mae:4701.65527\n",
      "[9]\tvalidation_0-mae:4635.15478\n",
      "[10]\tvalidation_0-mae:4646.57178\n",
      "[11]\tvalidation_0-mae:4648.88477\n",
      "[12]\tvalidation_0-mae:4620.51367\n",
      "[13]\tvalidation_0-mae:4636.74707\n",
      "[14]\tvalidation_0-mae:4628.56836\n",
      "[15]\tvalidation_0-mae:4626.22168\n",
      "[16]\tvalidation_0-mae:4637.77832\n",
      "[17]\tvalidation_0-mae:4644.45459\n",
      "[18]\tvalidation_0-mae:4710.54492\n",
      "[19]\tvalidation_0-mae:4727.09473\n",
      "[20]\tvalidation_0-mae:4753.04932\n",
      "[21]\tvalidation_0-mae:4774.00244\n"
     ]
    },
    {
     "data": {
      "text/plain": [
       "XGBRegressor(base_score=0.5, booster='gbtree', colsample_bylevel=1,\n",
       "             colsample_bynode=1, colsample_bytree=1, gamma=0, gpu_id=-1,\n",
       "             importance_type='gain', interaction_constraints='',\n",
       "             learning_rate=0.300000012, max_delta_step=0, max_depth=6,\n",
       "             min_child_weight=1, missing=nan, monotone_constraints='()',\n",
       "             n_estimators=100, n_jobs=12, num_parallel_tree=1, random_state=0,\n",
       "             reg_alpha=0, reg_lambda=1, scale_pos_weight=1, subsample=1,\n",
       "             tree_method='exact', validate_parameters=1, verbosity=None)"
      ]
     },
     "execution_count": 17,
     "metadata": {},
     "output_type": "execute_result"
    }
   ],
   "source": [
    "regressor.fit(X_train, y_train, early_stopping_rounds=10, eval_metric='mae', eval_set=[(X_test, y_test)])"
   ]
  },
  {
   "cell_type": "code",
   "execution_count": 18,
   "id": "77cd650e",
   "metadata": {},
   "outputs": [],
   "source": [
    "y_pred = regressor.predict(X_test)"
   ]
  },
  {
   "cell_type": "markdown",
   "id": "aa9c177a",
   "metadata": {},
   "source": [
    "# Evaluation Metrics (Base)"
   ]
  },
  {
   "cell_type": "code",
   "execution_count": 19,
   "id": "136f81c7",
   "metadata": {
    "scrolled": true
   },
   "outputs": [
    {
     "name": "stdout",
     "output_type": "stream",
     "text": [
      "Mean Absolute Error:  4620.514033854167\n",
      "Mean Squared Error 74103960.10903656\n",
      "Root MSE 8608.365704884787\n",
      "RMS Log Error 9.060489765802663\n",
      "R Squared Error:  0.5613636258528887\n"
     ]
    }
   ],
   "source": [
    "from sklearn.metrics import mean_absolute_error, mean_squared_error, r2_score\n",
    "import numpy as np \n",
    "\n",
    "print(\"Mean Absolute Error: \",mean_absolute_error(y_test,y_pred))\n",
    "print(\"Mean Squared Error\",mean_squared_error(y_test,y_pred))\n",
    "print(\"Root MSE\",np.sqrt(mean_squared_error(y_test,y_pred)))\n",
    "print(\"RMS Log Error\",np.log(np.sqrt(mean_squared_error(y_test,y_pred))))\n",
    "\n",
    "r2 = r2_score(y_test,y_pred)\n",
    "print(\"R Squared Error: \", r2)\n",
    "\n",
    "scores = {}\n",
    "scores['Base'] = {'Mean Absolute Error': mean_absolute_error(y_test,y_pred),\n",
    "#                   'Mean Squared Error':mean_squared_error(y_test,y_pred),\n",
    "                  'Root MSE':np.sqrt(mean_squared_error(y_test,y_pred)),\n",
    "                  'RMS Log Error':np.log(np.sqrt(mean_squared_error(y_test,y_pred))),\n",
    "                  'R Squared Error':r2_score(y_test,y_pred),\n",
    "                 }"
   ]
  },
  {
   "cell_type": "markdown",
   "id": "10802eeb",
   "metadata": {},
   "source": [
    "# Hyper Parameter Tuning"
   ]
  },
  {
   "cell_type": "code",
   "execution_count": 20,
   "id": "b883c027",
   "metadata": {},
   "outputs": [],
   "source": [
    "from sklearn.model_selection import RandomizedSearchCV"
   ]
  },
  {
   "cell_type": "code",
   "execution_count": 21,
   "id": "b1dd95b9",
   "metadata": {},
   "outputs": [],
   "source": [
    "params = {\n",
    "    'learning_rate': [0.05, 0.1, 0.15, 0.2, 0.25, 0.3],\n",
    "    'max_depth': [3, 4, 5, 6, 8, 10, 12, 15],\n",
    "    'min_child_weight': [1, 3, 5, 7],\n",
    "    'gamma': [0, 0.1, 0.2, 0.3, 0.4],\n",
    "    'colsample_bytree': [0.3, 0.4, 0.5, 0.7]\n",
    "}"
   ]
  },
  {
   "cell_type": "code",
   "execution_count": 22,
   "id": "c4e21aa3",
   "metadata": {},
   "outputs": [],
   "source": [
    "regressor = XGBRegressor(verbosity=0)\n",
    "\n",
    "random_search = RandomizedSearchCV(regressor, param_distributions=params, n_iter=5, scoring='neg_mean_squared_error', n_jobs=-1, cv=5, verbose=3)"
   ]
  },
  {
   "cell_type": "code",
   "execution_count": 23,
   "id": "c729c63b",
   "metadata": {},
   "outputs": [
    {
     "name": "stdout",
     "output_type": "stream",
     "text": [
      "Fitting 5 folds for each of 5 candidates, totalling 25 fits\n"
     ]
    },
    {
     "data": {
      "text/plain": [
       "RandomizedSearchCV(cv=5,\n",
       "                   estimator=XGBRegressor(base_score=None, booster=None,\n",
       "                                          colsample_bylevel=None,\n",
       "                                          colsample_bynode=None,\n",
       "                                          colsample_bytree=None, gamma=None,\n",
       "                                          gpu_id=None, importance_type='gain',\n",
       "                                          interaction_constraints=None,\n",
       "                                          learning_rate=None,\n",
       "                                          max_delta_step=None, max_depth=None,\n",
       "                                          min_child_weight=None, missing=nan,\n",
       "                                          monotone_constraints=None,\n",
       "                                          n_estimators=100, n...\n",
       "                                          reg_lambda=None,\n",
       "                                          scale_pos_weight=None, subsample=None,\n",
       "                                          tree_method=None,\n",
       "                                          validate_parameters=None,\n",
       "                                          verbosity=0),\n",
       "                   n_iter=5, n_jobs=-1,\n",
       "                   param_distributions={'colsample_bytree': [0.3, 0.4, 0.5,\n",
       "                                                             0.7],\n",
       "                                        'gamma': [0, 0.1, 0.2, 0.3, 0.4],\n",
       "                                        'learning_rate': [0.05, 0.1, 0.15, 0.2,\n",
       "                                                          0.25, 0.3],\n",
       "                                        'max_depth': [3, 4, 5, 6, 8, 10, 12,\n",
       "                                                      15],\n",
       "                                        'min_child_weight': [1, 3, 5, 7]},\n",
       "                   scoring='neg_mean_squared_error', verbose=3)"
      ]
     },
     "execution_count": 23,
     "metadata": {},
     "output_type": "execute_result"
    }
   ],
   "source": [
    "random_search.fit(X, y)"
   ]
  },
  {
   "cell_type": "code",
   "execution_count": 24,
   "id": "79bad6e7",
   "metadata": {},
   "outputs": [
    {
     "data": {
      "text/plain": [
       "XGBRegressor(base_score=0.5, booster='gbtree', colsample_bylevel=1,\n",
       "             colsample_bynode=1, colsample_bytree=0.3, gamma=0.4, gpu_id=-1,\n",
       "             importance_type='gain', interaction_constraints='',\n",
       "             learning_rate=0.1, max_delta_step=0, max_depth=3,\n",
       "             min_child_weight=5, missing=nan, monotone_constraints='()',\n",
       "             n_estimators=100, n_jobs=12, num_parallel_tree=1, random_state=0,\n",
       "             reg_alpha=0, reg_lambda=1, scale_pos_weight=1, subsample=1,\n",
       "             tree_method='exact', validate_parameters=1, verbosity=0)"
      ]
     },
     "execution_count": 24,
     "metadata": {},
     "output_type": "execute_result"
    }
   ],
   "source": [
    "random_search.best_estimator_"
   ]
  },
  {
   "cell_type": "code",
   "execution_count": 25,
   "id": "df159436",
   "metadata": {},
   "outputs": [],
   "source": [
    "regressor = XGBRegressor(base_score=0.5, booster='gbtree', colsample_bylevel=1,\n",
    "             colsample_bynode=1, colsample_bytree=0.7, gamma=0, gpu_id=-1,\n",
    "             importance_type='gain', interaction_constraints='',\n",
    "             learning_rate=0.05, max_delta_step=0, max_depth=6,\n",
    "             min_child_weight=7, monotone_constraints='()',\n",
    "             n_estimators=100, n_jobs=12, num_parallel_tree=1, random_state=0,\n",
    "             reg_alpha=0, reg_lambda=1, scale_pos_weight=1, subsample=1,\n",
    "             tree_method='exact', validate_parameters=1, verbosity=0)"
   ]
  },
  {
   "cell_type": "code",
   "execution_count": 26,
   "id": "4dffe8d3",
   "metadata": {},
   "outputs": [
    {
     "name": "stdout",
     "output_type": "stream",
     "text": [
      "[0]\tvalidation_0-mae:29345.26172\n",
      "[1]\tvalidation_0-mae:27915.53906\n",
      "[2]\tvalidation_0-mae:26559.25000\n",
      "[3]\tvalidation_0-mae:25268.57812\n",
      "[4]\tvalidation_0-mae:24056.70312\n",
      "[5]\tvalidation_0-mae:22886.36523\n",
      "[6]\tvalidation_0-mae:21778.79688\n",
      "[7]\tvalidation_0-mae:20721.70508\n",
      "[8]\tvalidation_0-mae:19724.50195\n",
      "[9]\tvalidation_0-mae:18801.73047\n",
      "[10]\tvalidation_0-mae:17905.96484\n",
      "[11]\tvalidation_0-mae:17058.99805\n",
      "[12]\tvalidation_0-mae:16250.06543\n",
      "[13]\tvalidation_0-mae:15480.04492\n",
      "[14]\tvalidation_0-mae:14745.05859\n",
      "[15]\tvalidation_0-mae:14054.27441\n",
      "[16]\tvalidation_0-mae:13396.65039\n",
      "[17]\tvalidation_0-mae:12790.46289\n",
      "[18]\tvalidation_0-mae:12202.08398\n",
      "[19]\tvalidation_0-mae:11639.87988\n",
      "[20]\tvalidation_0-mae:11106.43457\n",
      "[21]\tvalidation_0-mae:10620.06250\n",
      "[22]\tvalidation_0-mae:10146.48828\n",
      "[23]\tvalidation_0-mae:9716.25098\n",
      "[24]\tvalidation_0-mae:9293.81934\n",
      "[25]\tvalidation_0-mae:8904.72559\n",
      "[26]\tvalidation_0-mae:8547.46094\n",
      "[27]\tvalidation_0-mae:8217.17578\n",
      "[28]\tvalidation_0-mae:7911.29736\n",
      "[29]\tvalidation_0-mae:7621.97461\n",
      "[30]\tvalidation_0-mae:7360.76855\n",
      "[31]\tvalidation_0-mae:7121.17285\n",
      "[32]\tvalidation_0-mae:6904.34522\n",
      "[33]\tvalidation_0-mae:6706.14844\n",
      "[34]\tvalidation_0-mae:6528.33545\n",
      "[35]\tvalidation_0-mae:6352.66357\n",
      "[36]\tvalidation_0-mae:6192.65088\n",
      "[37]\tvalidation_0-mae:6044.43066\n",
      "[38]\tvalidation_0-mae:5898.09619\n",
      "[39]\tvalidation_0-mae:5769.47314\n",
      "[40]\tvalidation_0-mae:5646.87744\n",
      "[41]\tvalidation_0-mae:5544.41553\n",
      "[42]\tvalidation_0-mae:5449.04346\n",
      "[43]\tvalidation_0-mae:5350.38086\n",
      "[44]\tvalidation_0-mae:5263.78272\n",
      "[45]\tvalidation_0-mae:5185.63184\n",
      "[46]\tvalidation_0-mae:5118.88770\n",
      "[47]\tvalidation_0-mae:5051.99609\n",
      "[48]\tvalidation_0-mae:5000.75488\n",
      "[49]\tvalidation_0-mae:4953.10303\n",
      "[50]\tvalidation_0-mae:4912.61133\n",
      "[51]\tvalidation_0-mae:4875.21680\n",
      "[52]\tvalidation_0-mae:4832.88525\n",
      "[53]\tvalidation_0-mae:4799.65820\n",
      "[54]\tvalidation_0-mae:4772.14551\n",
      "[55]\tvalidation_0-mae:4743.05322\n",
      "[56]\tvalidation_0-mae:4725.25586\n",
      "[57]\tvalidation_0-mae:4700.85840\n",
      "[58]\tvalidation_0-mae:4677.80176\n",
      "[59]\tvalidation_0-mae:4658.34277\n",
      "[60]\tvalidation_0-mae:4644.67578\n",
      "[61]\tvalidation_0-mae:4633.50635\n",
      "[62]\tvalidation_0-mae:4622.20264\n",
      "[63]\tvalidation_0-mae:4612.61182\n",
      "[64]\tvalidation_0-mae:4597.84570\n",
      "[65]\tvalidation_0-mae:4584.55029\n",
      "[66]\tvalidation_0-mae:4577.35352\n",
      "[67]\tvalidation_0-mae:4568.68311\n",
      "[68]\tvalidation_0-mae:4558.12988\n",
      "[69]\tvalidation_0-mae:4553.31885\n",
      "[70]\tvalidation_0-mae:4553.70166\n",
      "[71]\tvalidation_0-mae:4548.41260\n",
      "[72]\tvalidation_0-mae:4541.31055\n",
      "[73]\tvalidation_0-mae:4536.36475\n",
      "[74]\tvalidation_0-mae:4534.74072\n",
      "[75]\tvalidation_0-mae:4533.62647\n",
      "[76]\tvalidation_0-mae:4533.44238\n",
      "[77]\tvalidation_0-mae:4533.21240\n",
      "[78]\tvalidation_0-mae:4534.73877\n",
      "[79]\tvalidation_0-mae:4537.23926\n",
      "[80]\tvalidation_0-mae:4530.28418\n",
      "[81]\tvalidation_0-mae:4531.96289\n",
      "[82]\tvalidation_0-mae:4530.54541\n",
      "[83]\tvalidation_0-mae:4525.78711\n",
      "[84]\tvalidation_0-mae:4521.58447\n",
      "[85]\tvalidation_0-mae:4515.73877\n",
      "[86]\tvalidation_0-mae:4512.41016\n",
      "[87]\tvalidation_0-mae:4510.95020\n",
      "[88]\tvalidation_0-mae:4506.89404\n",
      "[89]\tvalidation_0-mae:4504.96582\n",
      "[90]\tvalidation_0-mae:4502.65381\n",
      "[91]\tvalidation_0-mae:4504.05078\n",
      "[92]\tvalidation_0-mae:4503.86963\n",
      "[93]\tvalidation_0-mae:4505.36914\n",
      "[94]\tvalidation_0-mae:4503.20996\n",
      "[95]\tvalidation_0-mae:4504.34912\n",
      "[96]\tvalidation_0-mae:4502.52246\n",
      "[97]\tvalidation_0-mae:4504.16992\n",
      "[98]\tvalidation_0-mae:4504.05762\n",
      "[99]\tvalidation_0-mae:4504.81250\n"
     ]
    },
    {
     "data": {
      "text/plain": [
       "XGBRegressor(base_score=0.5, booster='gbtree', colsample_bylevel=1,\n",
       "             colsample_bynode=1, colsample_bytree=0.7, gamma=0, gpu_id=-1,\n",
       "             importance_type='gain', interaction_constraints='',\n",
       "             learning_rate=0.05, max_delta_step=0, max_depth=6,\n",
       "             min_child_weight=7, missing=nan, monotone_constraints='()',\n",
       "             n_estimators=100, n_jobs=12, num_parallel_tree=1, random_state=0,\n",
       "             reg_alpha=0, reg_lambda=1, scale_pos_weight=1, subsample=1,\n",
       "             tree_method='exact', validate_parameters=1, verbosity=0)"
      ]
     },
     "execution_count": 26,
     "metadata": {},
     "output_type": "execute_result"
    }
   ],
   "source": [
    "regressor.fit(X_train, y_train, early_stopping_rounds=10, eval_metric='mae', eval_set=[(X_test, y_test)])"
   ]
  },
  {
   "cell_type": "code",
   "execution_count": 27,
   "id": "e5a3065e",
   "metadata": {},
   "outputs": [],
   "source": [
    "y_pred = regressor.predict(X_test)"
   ]
  },
  {
   "cell_type": "markdown",
   "id": "a914d72c",
   "metadata": {},
   "source": [
    "# Evaluation Metrics (Tuned)"
   ]
  },
  {
   "cell_type": "code",
   "execution_count": 28,
   "id": "f3a16191",
   "metadata": {},
   "outputs": [
    {
     "name": "stdout",
     "output_type": "stream",
     "text": [
      "Mean Absolute Error:  4502.5226041666665\n",
      "Mean Squared Error 63475067.5835081\n",
      "Root MSE 7967.124172718039\n",
      "RMS Log Error 8.983078875140423\n",
      "R Squared Error:  0.6242781971084215\n"
     ]
    }
   ],
   "source": [
    "from sklearn.metrics import mean_absolute_error, mean_squared_error, r2_score\n",
    "import numpy as np \n",
    "\n",
    "print(\"Mean Absolute Error: \",mean_absolute_error(y_test,y_pred))\n",
    "print(\"Mean Squared Error\",mean_squared_error(y_test,y_pred))\n",
    "print(\"Root MSE\",np.sqrt(mean_squared_error(y_test,y_pred)))\n",
    "print(\"RMS Log Error\",np.log(np.sqrt(mean_squared_error(y_test,y_pred))))\n",
    "\n",
    "r2 = r2_score(y_test,y_pred)\n",
    "print(\"R Squared Error: \", r2)\n",
    "\n",
    "scores['Tuned'] = {'Mean Absolute Error': round(mean_absolute_error(y_test,y_pred), 3),\n",
    "#                   'Mean Squared Error':round(mean_squared_error(y_test,y_pred), 3),\n",
    "                  'Root MSE':round(np.sqrt(mean_squared_error(y_test,y_pred)), 3),\n",
    "                  'RMS Log Error':round(np.log(np.sqrt(mean_squared_error(y_test,y_pred))), 3),\n",
    "                  'R Squared Error':round(r2_score(y_test,y_pred), 3),\n",
    "                 }"
   ]
  },
  {
   "cell_type": "code",
   "execution_count": 29,
   "id": "7506157d",
   "metadata": {},
   "outputs": [
    {
     "data": {
      "text/html": [
       "<div>\n",
       "<style scoped>\n",
       "    .dataframe tbody tr th:only-of-type {\n",
       "        vertical-align: middle;\n",
       "    }\n",
       "\n",
       "    .dataframe tbody tr th {\n",
       "        vertical-align: top;\n",
       "    }\n",
       "\n",
       "    .dataframe thead th {\n",
       "        text-align: right;\n",
       "    }\n",
       "</style>\n",
       "<table border=\"1\" class=\"dataframe\">\n",
       "  <thead>\n",
       "    <tr style=\"text-align: right;\">\n",
       "      <th></th>\n",
       "      <th>Base</th>\n",
       "      <th>Tuned</th>\n",
       "    </tr>\n",
       "  </thead>\n",
       "  <tbody>\n",
       "    <tr>\n",
       "      <th>Mean Absolute Error</th>\n",
       "      <td>4620.514034</td>\n",
       "      <td>4502.523</td>\n",
       "    </tr>\n",
       "    <tr>\n",
       "      <th>Root MSE</th>\n",
       "      <td>8608.365705</td>\n",
       "      <td>7967.124</td>\n",
       "    </tr>\n",
       "    <tr>\n",
       "      <th>RMS Log Error</th>\n",
       "      <td>9.060490</td>\n",
       "      <td>8.983</td>\n",
       "    </tr>\n",
       "    <tr>\n",
       "      <th>R Squared Error</th>\n",
       "      <td>0.561364</td>\n",
       "      <td>0.624</td>\n",
       "    </tr>\n",
       "  </tbody>\n",
       "</table>\n",
       "</div>"
      ],
      "text/plain": [
       "                            Base     Tuned\n",
       "Mean Absolute Error  4620.514034  4502.523\n",
       "Root MSE             8608.365705  7967.124\n",
       "RMS Log Error           9.060490     8.983\n",
       "R Squared Error         0.561364     0.624"
      ]
     },
     "execution_count": 29,
     "metadata": {},
     "output_type": "execute_result"
    }
   ],
   "source": [
    "eval_df = pd.DataFrame(scores)\n",
    "eval_df"
   ]
  }
 ],
 "metadata": {
  "kernelspec": {
   "display_name": "Python 3",
   "language": "python",
   "name": "python3"
  },
  "language_info": {
   "codemirror_mode": {
    "name": "ipython",
    "version": 3
   },
   "file_extension": ".py",
   "mimetype": "text/x-python",
   "name": "python",
   "nbconvert_exporter": "python",
   "pygments_lexer": "ipython3",
   "version": "3.8.8"
  }
 },
 "nbformat": 4,
 "nbformat_minor": 5
}
