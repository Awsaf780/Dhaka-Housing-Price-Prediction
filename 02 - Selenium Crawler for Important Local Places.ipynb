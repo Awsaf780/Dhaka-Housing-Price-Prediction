{
 "cells": [
  {
   "cell_type": "code",
   "execution_count": 1,
   "id": "d93c62f0",
   "metadata": {},
   "outputs": [],
   "source": [
    "from selenium import webdriver \n",
    "import time\n",
    "from tqdm.notebook import tqdm\n",
    "import pandas as pd\n",
    "import json, csv\n",
    "\n",
    "import warnings\n",
    "warnings.filterwarnings('ignore')"
   ]
  },
  {
   "cell_type": "code",
   "execution_count": 2,
   "id": "8ac09f28",
   "metadata": {},
   "outputs": [],
   "source": [
    "files = ['bproperty_bashundhara_RA.csv',\n",
    "         'bproperty_dhanmondi.csv',\n",
    "         'bproperty_gulshan.csv',\n",
    "         'bproperty_mirpur.csv',\n",
    "         'bproperty_uttara.csv' ]\n",
    "\n",
    "dfs = []\n",
    "for file in files:\n",
    "    dfs.append(pd.read_csv(file))\n",
    "df = pd.concat(dfs, ignore_index=True)"
   ]
  },
  {
   "cell_type": "code",
   "execution_count": 3,
   "id": "477f3f27",
   "metadata": {},
   "outputs": [],
   "source": [
    "def get_unique_id(url):\n",
    "    url_ = url\n",
    "    unique = str(url_).replace('/en/property/details-', '').replace('.html', '')\n",
    "    return unique\n",
    "\n",
    "def fix_url(url):\n",
    "    url = 'https://www.bproperty.com' + str(url)\n",
    "    return url\n",
    "\n",
    "df['unique_id'] = df['url'].apply(get_unique_id)\n",
    "df['url'] = df['url'].apply(fix_url)"
   ]
  },
  {
   "cell_type": "code",
   "execution_count": 4,
   "id": "29143976",
   "metadata": {},
   "outputs": [
    {
     "data": {
      "text/html": [
       "<div>\n",
       "<style scoped>\n",
       "    .dataframe tbody tr th:only-of-type {\n",
       "        vertical-align: middle;\n",
       "    }\n",
       "\n",
       "    .dataframe tbody tr th {\n",
       "        vertical-align: top;\n",
       "    }\n",
       "\n",
       "    .dataframe thead th {\n",
       "        text-align: right;\n",
       "    }\n",
       "</style>\n",
       "<table border=\"1\" class=\"dataframe\">\n",
       "  <thead>\n",
       "    <tr style=\"text-align: right;\">\n",
       "      <th></th>\n",
       "      <th>dimensions</th>\n",
       "      <th>num_beds</th>\n",
       "      <th>num_baths</th>\n",
       "      <th>house_type</th>\n",
       "      <th>city</th>\n",
       "      <th>location</th>\n",
       "      <th>area_block</th>\n",
       "      <th>description</th>\n",
       "      <th>url</th>\n",
       "      <th>price</th>\n",
       "      <th>unique_id</th>\n",
       "    </tr>\n",
       "  </thead>\n",
       "  <tbody>\n",
       "    <tr>\n",
       "      <th>0</th>\n",
       "      <td>2,055 sqft</td>\n",
       "      <td>4</td>\n",
       "      <td>4</td>\n",
       "      <td>Apartment</td>\n",
       "      <td>Dhaka</td>\n",
       "      <td>Bashundhara R-A</td>\n",
       "      <td>Block D</td>\n",
       "      <td>2055 Sq Ft Cozy Flat For Rent In Bashundhara R...</td>\n",
       "      <td>https://www.bproperty.com/en/property/details-...</td>\n",
       "      <td>35000.0</td>\n",
       "      <td>5237946</td>\n",
       "    </tr>\n",
       "    <tr>\n",
       "      <th>1</th>\n",
       "      <td>1,911 sqft</td>\n",
       "      <td>3</td>\n",
       "      <td>3</td>\n",
       "      <td>Apartment</td>\n",
       "      <td>Dhaka</td>\n",
       "      <td>Bashundhara R-A</td>\n",
       "      <td>Block A</td>\n",
       "      <td>Emanate Your Knack For Gardening By Renting Th...</td>\n",
       "      <td>https://www.bproperty.com/en/property/details-...</td>\n",
       "      <td>45000.0</td>\n",
       "      <td>3875341</td>\n",
       "    </tr>\n",
       "    <tr>\n",
       "      <th>2</th>\n",
       "      <td>1,200 sqft</td>\n",
       "      <td>3</td>\n",
       "      <td>3</td>\n",
       "      <td>Apartment</td>\n",
       "      <td>Dhaka</td>\n",
       "      <td>Bashundhara R-A</td>\n",
       "      <td>Block K</td>\n",
       "      <td>To Secure Your Better State Of Living, Conside...</td>\n",
       "      <td>https://www.bproperty.com/en/property/details-...</td>\n",
       "      <td>20000.0</td>\n",
       "      <td>5182996</td>\n",
       "    </tr>\n",
       "    <tr>\n",
       "      <th>3</th>\n",
       "      <td>1,910 sqft</td>\n",
       "      <td>3</td>\n",
       "      <td>3</td>\n",
       "      <td>Apartment</td>\n",
       "      <td>Dhaka</td>\n",
       "      <td>Bashundhara R-A</td>\n",
       "      <td>Block A</td>\n",
       "      <td>For Rental Purpose 1910 Sq Ft Commendable Desi...</td>\n",
       "      <td>https://www.bproperty.com/en/property/details-...</td>\n",
       "      <td>45000.0</td>\n",
       "      <td>3875358</td>\n",
       "    </tr>\n",
       "    <tr>\n",
       "      <th>4</th>\n",
       "      <td>800 sqft</td>\n",
       "      <td>2</td>\n",
       "      <td>2</td>\n",
       "      <td>Apartment</td>\n",
       "      <td>Dhaka</td>\n",
       "      <td>Bashundhara R-A</td>\n",
       "      <td>Block G</td>\n",
       "      <td>Bright And Cozy Apartment Featuring 800 Sq Ft ...</td>\n",
       "      <td>https://www.bproperty.com/en/property/details-...</td>\n",
       "      <td>18000.0</td>\n",
       "      <td>3651253</td>\n",
       "    </tr>\n",
       "  </tbody>\n",
       "</table>\n",
       "</div>"
      ],
      "text/plain": [
       "   dimensions  num_beds  num_baths house_type   city         location  \\\n",
       "0  2,055 sqft         4          4  Apartment  Dhaka  Bashundhara R-A   \n",
       "1  1,911 sqft         3          3  Apartment  Dhaka  Bashundhara R-A   \n",
       "2  1,200 sqft         3          3  Apartment  Dhaka  Bashundhara R-A   \n",
       "3  1,910 sqft         3          3  Apartment  Dhaka  Bashundhara R-A   \n",
       "4    800 sqft         2          2  Apartment  Dhaka  Bashundhara R-A   \n",
       "\n",
       "  area_block                                        description  \\\n",
       "0    Block D  2055 Sq Ft Cozy Flat For Rent In Bashundhara R...   \n",
       "1    Block A  Emanate Your Knack For Gardening By Renting Th...   \n",
       "2    Block K  To Secure Your Better State Of Living, Conside...   \n",
       "3    Block A  For Rental Purpose 1910 Sq Ft Commendable Desi...   \n",
       "4    Block G  Bright And Cozy Apartment Featuring 800 Sq Ft ...   \n",
       "\n",
       "                                                 url    price unique_id  \n",
       "0  https://www.bproperty.com/en/property/details-...  35000.0   5237946  \n",
       "1  https://www.bproperty.com/en/property/details-...  45000.0   3875341  \n",
       "2  https://www.bproperty.com/en/property/details-...  20000.0   5182996  \n",
       "3  https://www.bproperty.com/en/property/details-...  45000.0   3875358  \n",
       "4  https://www.bproperty.com/en/property/details-...  18000.0   3651253  "
      ]
     },
     "execution_count": 4,
     "metadata": {},
     "output_type": "execute_result"
    }
   ],
   "source": [
    "# df.to_csv('combined.csv', index=False)\n",
    "df.head()"
   ]
  },
  {
   "cell_type": "code",
   "execution_count": 5,
   "id": "f3765aaf",
   "metadata": {
    "scrolled": true
   },
   "outputs": [
    {
     "data": {
      "application/vnd.jupyter.widget-view+json": {
       "model_id": "00143efe222f431fbb5ee6195568a393",
       "version_major": 2,
       "version_minor": 0
      },
      "text/plain": [
       "  0%|          | 0/13415 [00:00<?, ?it/s]"
      ]
     },
     "metadata": {},
     "output_type": "display_data"
    },
    {
     "name": "stdout",
     "output_type": "stream",
     "text": [
      "ID: 5237946\n",
      "Retrying in: 10 mins\n"
     ]
    },
    {
     "data": {
      "application/vnd.jupyter.widget-view+json": {
       "model_id": "987922051cf647cda1ffc41a1d52a447",
       "version_major": 2,
       "version_minor": 0
      },
      "text/plain": [
       "  0%|          | 0/600 [00:00<?, ?it/s]"
      ]
     },
     "metadata": {},
     "output_type": "display_data"
    },
    {
     "ename": "KeyboardInterrupt",
     "evalue": "",
     "output_type": "error",
     "traceback": [
      "\u001b[1;31m---------------------------------------------------------------------------\u001b[0m",
      "\u001b[1;31mNoSuchWindowException\u001b[0m                     Traceback (most recent call last)",
      "\u001b[1;32m<ipython-input-5-140e8cf21eee>\u001b[0m in \u001b[0;36m<module>\u001b[1;34m\u001b[0m\n\u001b[0;32m     10\u001b[0m         \u001b[1;31m# Click on JS Map\u001b[0m\u001b[1;33m\u001b[0m\u001b[1;33m\u001b[0m\u001b[1;33m\u001b[0m\u001b[0m\n\u001b[1;32m---> 11\u001b[1;33m         \u001b[0mdriver\u001b[0m\u001b[1;33m.\u001b[0m\u001b[0mfind_element_by_xpath\u001b[0m\u001b[1;33m(\u001b[0m\u001b[1;34m'//div[@class=\"_4866b17e\"]'\u001b[0m\u001b[1;33m)\u001b[0m\u001b[1;33m.\u001b[0m\u001b[0mclick\u001b[0m\u001b[1;33m(\u001b[0m\u001b[1;33m)\u001b[0m\u001b[1;33m\u001b[0m\u001b[1;33m\u001b[0m\u001b[0m\n\u001b[0m\u001b[0;32m     12\u001b[0m         \u001b[0mtime\u001b[0m\u001b[1;33m.\u001b[0m\u001b[0msleep\u001b[0m\u001b[1;33m(\u001b[0m\u001b[1;36m5\u001b[0m\u001b[1;33m)\u001b[0m\u001b[1;33m\u001b[0m\u001b[1;33m\u001b[0m\u001b[0m\n",
      "\u001b[1;32m~\\anaconda3\\lib\\site-packages\\selenium\\webdriver\\remote\\webdriver.py\u001b[0m in \u001b[0;36mfind_element_by_xpath\u001b[1;34m(self, xpath)\u001b[0m\n\u001b[0;32m    513\u001b[0m         )\n\u001b[1;32m--> 514\u001b[1;33m         \u001b[1;32mreturn\u001b[0m \u001b[0mself\u001b[0m\u001b[1;33m.\u001b[0m\u001b[0mfind_element\u001b[0m\u001b[1;33m(\u001b[0m\u001b[0mby\u001b[0m\u001b[1;33m=\u001b[0m\u001b[0mBy\u001b[0m\u001b[1;33m.\u001b[0m\u001b[0mXPATH\u001b[0m\u001b[1;33m,\u001b[0m \u001b[0mvalue\u001b[0m\u001b[1;33m=\u001b[0m\u001b[0mxpath\u001b[0m\u001b[1;33m)\u001b[0m\u001b[1;33m\u001b[0m\u001b[1;33m\u001b[0m\u001b[0m\n\u001b[0m\u001b[0;32m    515\u001b[0m \u001b[1;33m\u001b[0m\u001b[0m\n",
      "\u001b[1;32m~\\anaconda3\\lib\\site-packages\\selenium\\webdriver\\remote\\webdriver.py\u001b[0m in \u001b[0;36mfind_element\u001b[1;34m(self, by, value)\u001b[0m\n\u001b[0;32m   1237\u001b[0m \u001b[1;33m\u001b[0m\u001b[0m\n\u001b[1;32m-> 1238\u001b[1;33m         return self.execute(Command.FIND_ELEMENT, {\n\u001b[0m\u001b[0;32m   1239\u001b[0m             \u001b[1;34m'using'\u001b[0m\u001b[1;33m:\u001b[0m \u001b[0mby\u001b[0m\u001b[1;33m,\u001b[0m\u001b[1;33m\u001b[0m\u001b[1;33m\u001b[0m\u001b[0m\n",
      "\u001b[1;32m~\\anaconda3\\lib\\site-packages\\selenium\\webdriver\\remote\\webdriver.py\u001b[0m in \u001b[0;36mexecute\u001b[1;34m(self, driver_command, params)\u001b[0m\n\u001b[0;32m    417\u001b[0m         \u001b[1;32mif\u001b[0m \u001b[0mresponse\u001b[0m\u001b[1;33m:\u001b[0m\u001b[1;33m\u001b[0m\u001b[1;33m\u001b[0m\u001b[0m\n\u001b[1;32m--> 418\u001b[1;33m             \u001b[0mself\u001b[0m\u001b[1;33m.\u001b[0m\u001b[0merror_handler\u001b[0m\u001b[1;33m.\u001b[0m\u001b[0mcheck_response\u001b[0m\u001b[1;33m(\u001b[0m\u001b[0mresponse\u001b[0m\u001b[1;33m)\u001b[0m\u001b[1;33m\u001b[0m\u001b[1;33m\u001b[0m\u001b[0m\n\u001b[0m\u001b[0;32m    419\u001b[0m             response['value'] = self._unwrap_value(\n",
      "\u001b[1;32m~\\anaconda3\\lib\\site-packages\\selenium\\webdriver\\remote\\errorhandler.py\u001b[0m in \u001b[0;36mcheck_response\u001b[1;34m(self, response)\u001b[0m\n\u001b[0;32m    242\u001b[0m             \u001b[1;32mraise\u001b[0m \u001b[0mexception_class\u001b[0m\u001b[1;33m(\u001b[0m\u001b[0mmessage\u001b[0m\u001b[1;33m,\u001b[0m \u001b[0mscreen\u001b[0m\u001b[1;33m,\u001b[0m \u001b[0mstacktrace\u001b[0m\u001b[1;33m,\u001b[0m \u001b[0malert_text\u001b[0m\u001b[1;33m)\u001b[0m  \u001b[1;31m# type: ignore[call-arg]  # mypy is not smart enough here\u001b[0m\u001b[1;33m\u001b[0m\u001b[1;33m\u001b[0m\u001b[0m\n\u001b[1;32m--> 243\u001b[1;33m         \u001b[1;32mraise\u001b[0m \u001b[0mexception_class\u001b[0m\u001b[1;33m(\u001b[0m\u001b[0mmessage\u001b[0m\u001b[1;33m,\u001b[0m \u001b[0mscreen\u001b[0m\u001b[1;33m,\u001b[0m \u001b[0mstacktrace\u001b[0m\u001b[1;33m)\u001b[0m\u001b[1;33m\u001b[0m\u001b[1;33m\u001b[0m\u001b[0m\n\u001b[0m\u001b[0;32m    244\u001b[0m \u001b[1;33m\u001b[0m\u001b[0m\n",
      "\u001b[1;31mNoSuchWindowException\u001b[0m: Message: Browsing context has been discarded\nStacktrace:\nWebDriverError@chrome://remote/content/shared/webdriver/Errors.jsm:181:5\nNoSuchWindowError@chrome://remote/content/shared/webdriver/Errors.jsm:415:5\nassert.that/<@chrome://remote/content/shared/webdriver/Assert.jsm:435:13\nassert.open@chrome://remote/content/shared/webdriver/Assert.jsm:143:4\nGeckoDriver.prototype.findElement@chrome://remote/content/marionette/driver.js:1404:10\ndespatch@chrome://remote/content/marionette/server.js:306:40\nexecute@chrome://remote/content/marionette/server.js:279:16\nonPacket/<@chrome://remote/content/marionette/server.js:252:20\nonPacket@chrome://remote/content/marionette/server.js:253:9\n_onJSONObjectReady/<@chrome://remote/content/marionette/transport.js:500:20\n",
      "\nDuring handling of the above exception, another exception occurred:\n",
      "\u001b[1;31mKeyboardInterrupt\u001b[0m                         Traceback (most recent call last)",
      "\u001b[1;32m<ipython-input-5-140e8cf21eee>\u001b[0m in \u001b[0;36m<module>\u001b[1;34m\u001b[0m\n\u001b[0;32m     61\u001b[0m         \u001b[0mprint\u001b[0m\u001b[1;33m(\u001b[0m\u001b[1;34m\"Retrying in: 10 mins\"\u001b[0m\u001b[1;33m)\u001b[0m\u001b[1;33m\u001b[0m\u001b[1;33m\u001b[0m\u001b[0m\n\u001b[0;32m     62\u001b[0m         \u001b[1;32mfor\u001b[0m \u001b[0ms\u001b[0m \u001b[1;32min\u001b[0m \u001b[0mtqdm\u001b[0m\u001b[1;33m(\u001b[0m\u001b[0mrange\u001b[0m\u001b[1;33m(\u001b[0m\u001b[1;36m600\u001b[0m\u001b[1;33m)\u001b[0m\u001b[1;33m)\u001b[0m\u001b[1;33m:\u001b[0m\u001b[1;33m\u001b[0m\u001b[1;33m\u001b[0m\u001b[0m\n\u001b[1;32m---> 63\u001b[1;33m             \u001b[0mtime\u001b[0m\u001b[1;33m.\u001b[0m\u001b[0msleep\u001b[0m\u001b[1;33m(\u001b[0m\u001b[1;36m1\u001b[0m\u001b[1;33m)\u001b[0m\u001b[1;33m\u001b[0m\u001b[1;33m\u001b[0m\u001b[0m\n\u001b[0m\u001b[0;32m     64\u001b[0m \u001b[1;33m\u001b[0m\u001b[0m\n\u001b[0;32m     65\u001b[0m         \u001b[0mdriver\u001b[0m\u001b[1;33m.\u001b[0m\u001b[0mquit\u001b[0m\u001b[1;33m(\u001b[0m\u001b[1;33m)\u001b[0m\u001b[1;33m\u001b[0m\u001b[1;33m\u001b[0m\u001b[0m\n",
      "\u001b[1;31mKeyboardInterrupt\u001b[0m: "
     ]
    }
   ],
   "source": [
    "driver = webdriver.Firefox(executable_path='driver/geckodriver.exe')\n",
    "tertiary_scrape = {}\n",
    "bad_id = []\n",
    "\n",
    "for i in tqdm(range(len(df))):\n",
    "    try:\n",
    "        url = df['url'][i]\n",
    "        title = driver.get(url)\n",
    "\n",
    "        # Click on JS Map\n",
    "        driver.find_element_by_xpath('//div[@class=\"_4866b17e\"]').click()\n",
    "        time.sleep(5)\n",
    "\n",
    "        # Click on required tabs and retrieve data\n",
    "        schools = []\n",
    "        restaurants = []\n",
    "        hospitals = []\n",
    "        parks = []\n",
    "\n",
    "        tabs = driver.find_elements_by_xpath('//li[@class=\"a17d0d0d\"]')\n",
    "\n",
    "        for j in range(4):\n",
    "            tabs[j].click()\n",
    "            time.sleep(5)\n",
    "\n",
    "            nearby = driver.find_elements(by='xpath', value='//div[@class=\"daf61ad1\"]')\n",
    "\n",
    "            if j == 0:\n",
    "                for item in nearby:\n",
    "                    schools.append(item.text)\n",
    "\n",
    "            if j == 1:\n",
    "                for item in nearby:\n",
    "                    restaurants.append(item.text)\n",
    "\n",
    "            if j == 2:\n",
    "                for item in nearby:\n",
    "                    hospitals.append(item.text)\n",
    "\n",
    "            if j == 3:\n",
    "                for item in nearby:\n",
    "                    parks.append(item.text) \n",
    "\n",
    "        tertiary_scrape[ df['unique_id'][i] ] = {'schools': len(list(set(schools))),\n",
    "                                                 'restaurants': len(list(set(restaurants))),\n",
    "                                                 'hospitals': len(list(set(hospitals))),\n",
    "                                                 'parks': len(list(set(parks)))}\n",
    "        \n",
    "        fields = [i, df['unique_id'][i], len(list(set(schools))), len(list(set(restaurants))),\n",
    "                                      len(list(set(hospitals))), len(list(set(parks)))]\n",
    "        \n",
    "        with open(r'tertiary.csv', 'a') as f:\n",
    "            writer = csv.writer(f)\n",
    "            writer.writerow(fields)\n",
    "            f.close()\n",
    "            \n",
    "    except Exception as e:\n",
    "        print('ID: ' + str(df['unique_id'][i]))\n",
    "        bad_id.append(df['unique_id'][i])\n",
    "        \n",
    "        print(\"Retrying in: 10 mins\")\n",
    "        for s in tqdm(range(600)):\n",
    "            time.sleep(1)\n",
    "        \n",
    "        driver.quit()\n",
    "        print('Starting New Instance')\n",
    "        print()\n",
    "        \n",
    "        driver = webdriver.Firefox(executable_path='driver/geckodriver.exe')\n",
    "        \n",
    "\n",
    "driver.quit()"
   ]
  },
  {
   "cell_type": "code",
   "execution_count": null,
   "id": "dab5a9a7",
   "metadata": {
    "scrolled": true
   },
   "outputs": [],
   "source": [
    "tertiary_scrape"
   ]
  },
  {
   "cell_type": "code",
   "execution_count": null,
   "id": "3b6fda43",
   "metadata": {},
   "outputs": [],
   "source": [
    "scraped = pd.DataFrame(tertiary_scrape)\n",
    "scraped = scraped.T.reset_index()\n",
    "scraped.rename(columns={'index':'unique_id'}, inplace=True)\n",
    "\n",
    "scraped"
   ]
  },
  {
   "cell_type": "code",
   "execution_count": null,
   "id": "5371d3e4",
   "metadata": {},
   "outputs": [],
   "source": [
    "bad_id"
   ]
  }
 ],
 "metadata": {
  "kernelspec": {
   "display_name": "Python 3",
   "language": "python",
   "name": "python3"
  },
  "language_info": {
   "codemirror_mode": {
    "name": "ipython",
    "version": 3
   },
   "file_extension": ".py",
   "mimetype": "text/x-python",
   "name": "python",
   "nbconvert_exporter": "python",
   "pygments_lexer": "ipython3",
   "version": "3.8.8"
  }
 },
 "nbformat": 4,
 "nbformat_minor": 5
}
