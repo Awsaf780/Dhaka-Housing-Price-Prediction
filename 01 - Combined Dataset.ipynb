{
 "cells": [
  {
   "cell_type": "code",
   "execution_count": 8,
   "id": "591d8a5f",
   "metadata": {},
   "outputs": [],
   "source": [
    "import pandas as pd\n",
    "import requests\n",
    "from bs4 import BeautifulSoup\n",
    "\n",
    "from tqdm.notebook import tqdm"
   ]
  },
  {
   "cell_type": "code",
   "execution_count": 2,
   "id": "570f7622",
   "metadata": {},
   "outputs": [],
   "source": [
    "files = ['bproperty_bashundhara_RA.csv',\n",
    "         'bproperty_dhanmondi.csv',\n",
    "         'bproperty_gulshan.csv',\n",
    "         'bproperty_mirpur.csv',\n",
    "         'bproperty_uttara.csv' ]"
   ]
  },
  {
   "cell_type": "code",
   "execution_count": 3,
   "id": "53568842",
   "metadata": {},
   "outputs": [],
   "source": [
    "dfs = []\n",
    "for file in files:\n",
    "    dfs.append(pd.read_csv(file))\n",
    "df = pd.concat(dfs)"
   ]
  },
  {
   "cell_type": "code",
   "execution_count": 4,
   "id": "388a3c02",
   "metadata": {},
   "outputs": [
    {
     "data": {
      "text/html": [
       "<div>\n",
       "<style scoped>\n",
       "    .dataframe tbody tr th:only-of-type {\n",
       "        vertical-align: middle;\n",
       "    }\n",
       "\n",
       "    .dataframe tbody tr th {\n",
       "        vertical-align: top;\n",
       "    }\n",
       "\n",
       "    .dataframe thead th {\n",
       "        text-align: right;\n",
       "    }\n",
       "</style>\n",
       "<table border=\"1\" class=\"dataframe\">\n",
       "  <thead>\n",
       "    <tr style=\"text-align: right;\">\n",
       "      <th></th>\n",
       "      <th>dimensions</th>\n",
       "      <th>num_beds</th>\n",
       "      <th>num_baths</th>\n",
       "      <th>house_type</th>\n",
       "      <th>city</th>\n",
       "      <th>location</th>\n",
       "      <th>area_block</th>\n",
       "      <th>description</th>\n",
       "      <th>url</th>\n",
       "      <th>price</th>\n",
       "    </tr>\n",
       "  </thead>\n",
       "  <tbody>\n",
       "    <tr>\n",
       "      <th>0</th>\n",
       "      <td>2,055 sqft</td>\n",
       "      <td>4</td>\n",
       "      <td>4</td>\n",
       "      <td>Apartment</td>\n",
       "      <td>Dhaka</td>\n",
       "      <td>Bashundhara R-A</td>\n",
       "      <td>Block D</td>\n",
       "      <td>2055 Sq Ft Cozy Flat For Rent In Bashundhara R...</td>\n",
       "      <td>/en/property/details-5237946.html</td>\n",
       "      <td>35000.0</td>\n",
       "    </tr>\n",
       "    <tr>\n",
       "      <th>1</th>\n",
       "      <td>1,911 sqft</td>\n",
       "      <td>3</td>\n",
       "      <td>3</td>\n",
       "      <td>Apartment</td>\n",
       "      <td>Dhaka</td>\n",
       "      <td>Bashundhara R-A</td>\n",
       "      <td>Block A</td>\n",
       "      <td>Emanate Your Knack For Gardening By Renting Th...</td>\n",
       "      <td>/en/property/details-3875341.html</td>\n",
       "      <td>45000.0</td>\n",
       "    </tr>\n",
       "    <tr>\n",
       "      <th>2</th>\n",
       "      <td>1,200 sqft</td>\n",
       "      <td>3</td>\n",
       "      <td>3</td>\n",
       "      <td>Apartment</td>\n",
       "      <td>Dhaka</td>\n",
       "      <td>Bashundhara R-A</td>\n",
       "      <td>Block K</td>\n",
       "      <td>To Secure Your Better State Of Living, Conside...</td>\n",
       "      <td>/en/property/details-5182996.html</td>\n",
       "      <td>20000.0</td>\n",
       "    </tr>\n",
       "    <tr>\n",
       "      <th>3</th>\n",
       "      <td>1,910 sqft</td>\n",
       "      <td>3</td>\n",
       "      <td>3</td>\n",
       "      <td>Apartment</td>\n",
       "      <td>Dhaka</td>\n",
       "      <td>Bashundhara R-A</td>\n",
       "      <td>Block A</td>\n",
       "      <td>For Rental Purpose 1910 Sq Ft Commendable Desi...</td>\n",
       "      <td>/en/property/details-3875358.html</td>\n",
       "      <td>45000.0</td>\n",
       "    </tr>\n",
       "    <tr>\n",
       "      <th>4</th>\n",
       "      <td>800 sqft</td>\n",
       "      <td>2</td>\n",
       "      <td>2</td>\n",
       "      <td>Apartment</td>\n",
       "      <td>Dhaka</td>\n",
       "      <td>Bashundhara R-A</td>\n",
       "      <td>Block G</td>\n",
       "      <td>Bright And Cozy Apartment Featuring 800 Sq Ft ...</td>\n",
       "      <td>/en/property/details-3651253.html</td>\n",
       "      <td>18000.0</td>\n",
       "    </tr>\n",
       "    <tr>\n",
       "      <th>...</th>\n",
       "      <td>...</td>\n",
       "      <td>...</td>\n",
       "      <td>...</td>\n",
       "      <td>...</td>\n",
       "      <td>...</td>\n",
       "      <td>...</td>\n",
       "      <td>...</td>\n",
       "      <td>...</td>\n",
       "      <td>...</td>\n",
       "      <td>...</td>\n",
       "    </tr>\n",
       "    <tr>\n",
       "      <th>2726</th>\n",
       "      <td>2,500 sqft</td>\n",
       "      <td>3</td>\n",
       "      <td>4</td>\n",
       "      <td>Apartment</td>\n",
       "      <td>Dhaka</td>\n",
       "      <td>Uttara</td>\n",
       "      <td>Sector 4</td>\n",
       "      <td>For You 2500 Sq Ft Flat Is Now For Rent Near T...</td>\n",
       "      <td>/en/property/details-1701632.html</td>\n",
       "      <td>50000.0</td>\n",
       "    </tr>\n",
       "    <tr>\n",
       "      <th>2727</th>\n",
       "      <td>1,600 sqft</td>\n",
       "      <td>3</td>\n",
       "      <td>3</td>\n",
       "      <td>Apartment</td>\n",
       "      <td>Dhaka</td>\n",
       "      <td>Uttara</td>\n",
       "      <td>Sector 6</td>\n",
       "      <td>A noteworthy Residence up for rent in Uttara a...</td>\n",
       "      <td>/en/property/details-1701287.html</td>\n",
       "      <td>25000.0</td>\n",
       "    </tr>\n",
       "    <tr>\n",
       "      <th>2728</th>\n",
       "      <td>900 sqft</td>\n",
       "      <td>2</td>\n",
       "      <td>2</td>\n",
       "      <td>Apartment</td>\n",
       "      <td>Dhaka</td>\n",
       "      <td>Uttara</td>\n",
       "      <td>Sector 14</td>\n",
       "      <td>A 900 SQ FT vacant apartment is ready to be re...</td>\n",
       "      <td>/en/property/details-1667106.html</td>\n",
       "      <td>16000.0</td>\n",
       "    </tr>\n",
       "    <tr>\n",
       "      <th>2729</th>\n",
       "      <td>1,200 sqft</td>\n",
       "      <td>3</td>\n",
       "      <td>3</td>\n",
       "      <td>Apartment</td>\n",
       "      <td>Dhaka</td>\n",
       "      <td>Uttara</td>\n",
       "      <td>Sector 5</td>\n",
       "      <td>Residential Flat Of 1200 Sq Ft Is Available Fo...</td>\n",
       "      <td>/en/property/details-1665314.html</td>\n",
       "      <td>25000.0</td>\n",
       "    </tr>\n",
       "    <tr>\n",
       "      <th>2730</th>\n",
       "      <td>2,900 sqft</td>\n",
       "      <td>4</td>\n",
       "      <td>4</td>\n",
       "      <td>Apartment</td>\n",
       "      <td>Dhaka</td>\n",
       "      <td>Uttara</td>\n",
       "      <td>Sector 6</td>\n",
       "      <td>Close To Rajuk Uttara Model College, A 2900 Sq...</td>\n",
       "      <td>/en/property/details-1664303.html</td>\n",
       "      <td>60000.0</td>\n",
       "    </tr>\n",
       "  </tbody>\n",
       "</table>\n",
       "<p>13415 rows × 10 columns</p>\n",
       "</div>"
      ],
      "text/plain": [
       "      dimensions  num_beds  num_baths house_type   city         location  \\\n",
       "0     2,055 sqft         4          4  Apartment  Dhaka  Bashundhara R-A   \n",
       "1     1,911 sqft         3          3  Apartment  Dhaka  Bashundhara R-A   \n",
       "2     1,200 sqft         3          3  Apartment  Dhaka  Bashundhara R-A   \n",
       "3     1,910 sqft         3          3  Apartment  Dhaka  Bashundhara R-A   \n",
       "4       800 sqft         2          2  Apartment  Dhaka  Bashundhara R-A   \n",
       "...          ...       ...        ...        ...    ...              ...   \n",
       "2726  2,500 sqft         3          4  Apartment  Dhaka           Uttara   \n",
       "2727  1,600 sqft         3          3  Apartment  Dhaka           Uttara   \n",
       "2728    900 sqft         2          2  Apartment  Dhaka           Uttara   \n",
       "2729  1,200 sqft         3          3  Apartment  Dhaka           Uttara   \n",
       "2730  2,900 sqft         4          4  Apartment  Dhaka           Uttara   \n",
       "\n",
       "     area_block                                        description  \\\n",
       "0       Block D  2055 Sq Ft Cozy Flat For Rent In Bashundhara R...   \n",
       "1       Block A  Emanate Your Knack For Gardening By Renting Th...   \n",
       "2       Block K  To Secure Your Better State Of Living, Conside...   \n",
       "3       Block A  For Rental Purpose 1910 Sq Ft Commendable Desi...   \n",
       "4       Block G  Bright And Cozy Apartment Featuring 800 Sq Ft ...   \n",
       "...         ...                                                ...   \n",
       "2726   Sector 4  For You 2500 Sq Ft Flat Is Now For Rent Near T...   \n",
       "2727   Sector 6  A noteworthy Residence up for rent in Uttara a...   \n",
       "2728  Sector 14  A 900 SQ FT vacant apartment is ready to be re...   \n",
       "2729   Sector 5  Residential Flat Of 1200 Sq Ft Is Available Fo...   \n",
       "2730   Sector 6  Close To Rajuk Uttara Model College, A 2900 Sq...   \n",
       "\n",
       "                                    url    price  \n",
       "0     /en/property/details-5237946.html  35000.0  \n",
       "1     /en/property/details-3875341.html  45000.0  \n",
       "2     /en/property/details-5182996.html  20000.0  \n",
       "3     /en/property/details-3875358.html  45000.0  \n",
       "4     /en/property/details-3651253.html  18000.0  \n",
       "...                                 ...      ...  \n",
       "2726  /en/property/details-1701632.html  50000.0  \n",
       "2727  /en/property/details-1701287.html  25000.0  \n",
       "2728  /en/property/details-1667106.html  16000.0  \n",
       "2729  /en/property/details-1665314.html  25000.0  \n",
       "2730  /en/property/details-1664303.html  60000.0  \n",
       "\n",
       "[13415 rows x 10 columns]"
      ]
     },
     "execution_count": 4,
     "metadata": {},
     "output_type": "execute_result"
    }
   ],
   "source": [
    "df"
   ]
  },
  {
   "cell_type": "code",
   "execution_count": 5,
   "id": "2799122e",
   "metadata": {},
   "outputs": [
    {
     "data": {
      "text/plain": [
       "Mirpur             7935\n",
       "Uttara             2731\n",
       "Bashundhara R-A    1542\n",
       "Dhanmondi           981\n",
       "Gulshan             226\n",
       "Name: location, dtype: int64"
      ]
     },
     "execution_count": 5,
     "metadata": {},
     "output_type": "execute_result"
    }
   ],
   "source": [
    "df['location'].value_counts()"
   ]
  },
  {
   "cell_type": "code",
   "execution_count": 6,
   "id": "819ce507",
   "metadata": {},
   "outputs": [
    {
     "data": {
      "text/plain": [
       "Section 12                  1300\n",
       "Pallabi                      853\n",
       "Section 10                   840\n",
       "Section 1                    711\n",
       "Pirerbag                     437\n",
       "                            ... \n",
       "Borobag                        1\n",
       "North Karful Road              1\n",
       "South Paikpara Main Road       1\n",
       "Tolarbag                       1\n",
       "Baten Nagar                    1\n",
       "Name: area_block, Length: 122, dtype: int64"
      ]
     },
     "execution_count": 6,
     "metadata": {},
     "output_type": "execute_result"
    }
   ],
   "source": [
    "df['area_block'].value_counts()"
   ]
  },
  {
   "cell_type": "code",
   "execution_count": 21,
   "id": "2660af86",
   "metadata": {},
   "outputs": [],
   "source": [
    "url = 'https://www.bproperty.com/en/property/details-3376701.html'\n",
    "response = requests.get(url, headers={'User-Agent': 'Mozilla/5.0'})\n",
    "text = response.text\n",
    "soup = BeautifulSoup(text, 'lxml')"
   ]
  },
  {
   "cell_type": "code",
   "execution_count": 22,
   "id": "4f616a90",
   "metadata": {},
   "outputs": [],
   "source": [
    "features = soup.find_all(\"span\", class_='_005a682a')"
   ]
  },
  {
   "cell_type": "code",
   "execution_count": 23,
   "id": "46328a9c",
   "metadata": {},
   "outputs": [
    {
     "data": {
      "text/plain": [
       "[<span class=\"_005a682a\">Parking Spaces<!-- -->: 2</span>,\n",
       " <span class=\"_005a682a\">Floor Level</span>,\n",
       " <span class=\"_005a682a\">Balcony or Terrace</span>,\n",
       " <span class=\"_005a682a\">View</span>,\n",
       " <span class=\"_005a682a\">Flooring</span>,\n",
       " <span class=\"_005a682a\">Elevators in Building<!-- -->: 1</span>,\n",
       " <span class=\"_005a682a\">24 Hours Concierge</span>,\n",
       " <span class=\"_005a682a\">Lobby in Building</span>,\n",
       " <span class=\"_005a682a\">Service Elevators</span>,\n",
       " <span class=\"_005a682a\">Elevators in Building<!-- -->: 1</span>,\n",
       " <span class=\"_005a682a\">Parking Spaces<!-- -->: 2</span>,\n",
       " <span class=\"_005a682a\">24 Hours Concierge</span>,\n",
       " <span class=\"_005a682a\">Floor Level</span>,\n",
       " <span class=\"_005a682a\">Balcony or Terrace</span>,\n",
       " <span class=\"_005a682a\">Lobby in Building</span>,\n",
       " <span class=\"_005a682a\">Service Elevators</span>,\n",
       " <span class=\"_005a682a\">View</span>,\n",
       " <span class=\"_005a682a\">Electricity Backup</span>,\n",
       " <span class=\"_005a682a\">Flooring</span>,\n",
       " <span class=\"_005a682a\">Intercom</span>,\n",
       " <span class=\"_005a682a\">CCTV Security</span>,\n",
       " <span class=\"_005a682a\">Maintenance Staff</span>,\n",
       " <span class=\"_005a682a\">Cleaning Services</span>]"
      ]
     },
     "execution_count": 23,
     "metadata": {},
     "output_type": "execute_result"
    }
   ],
   "source": [
    "features"
   ]
  },
  {
   "cell_type": "code",
   "execution_count": 24,
   "id": "6d398d18",
   "metadata": {},
   "outputs": [
    {
     "data": {
      "application/vnd.jupyter.widget-view+json": {
       "model_id": "ca1d279346ba4ad6bc6798c25898ab6b",
       "version_major": 2,
       "version_minor": 0
      },
      "text/plain": [
       "  0%|          | 0/23 [00:00<?, ?it/s]"
      ]
     },
     "metadata": {},
     "output_type": "display_data"
    }
   ],
   "source": [
    "dicy = {}\n",
    "for i in tqdm(range(len(features))):\n",
    "    features[i] = str(features[i]).replace('<span class=\"_005a682a\">', '').replace('</span>', '').replace('<!-- -->', '').replace(': ', ':')\n",
    "    try:\n",
    "        key, value = features[i].split(':')\n",
    "    except:\n",
    "        key = features[i]\n",
    "        value = 'Yes'\n",
    "    dicy[key] = value\n",
    "features = list(set(features))"
   ]
  },
  {
   "cell_type": "code",
   "execution_count": 25,
   "id": "51dc9120",
   "metadata": {},
   "outputs": [
    {
     "data": {
      "text/plain": [
       "{'Parking Spaces': '2',\n",
       " 'Floor Level': 'Yes',\n",
       " 'Balcony or Terrace': 'Yes',\n",
       " 'View': 'Yes',\n",
       " 'Flooring': 'Yes',\n",
       " 'Elevators in Building': '1',\n",
       " '24 Hours Concierge': 'Yes',\n",
       " 'Lobby in Building': 'Yes',\n",
       " 'Service Elevators': 'Yes',\n",
       " 'Electricity Backup': 'Yes',\n",
       " 'Intercom': 'Yes',\n",
       " 'CCTV Security': 'Yes',\n",
       " 'Maintenance Staff': 'Yes',\n",
       " 'Cleaning Services': 'Yes'}"
      ]
     },
     "execution_count": 25,
     "metadata": {},
     "output_type": "execute_result"
    }
   ],
   "source": [
    "dicy"
   ]
  },
  {
   "cell_type": "code",
   "execution_count": null,
   "id": "1f04a8f8",
   "metadata": {},
   "outputs": [],
   "source": []
  }
 ],
 "metadata": {
  "kernelspec": {
   "display_name": "Python 3",
   "language": "python",
   "name": "python3"
  },
  "language_info": {
   "codemirror_mode": {
    "name": "ipython",
    "version": 3
   },
   "file_extension": ".py",
   "mimetype": "text/x-python",
   "name": "python",
   "nbconvert_exporter": "python",
   "pygments_lexer": "ipython3",
   "version": "3.8.8"
  }
 },
 "nbformat": 4,
 "nbformat_minor": 5
}
