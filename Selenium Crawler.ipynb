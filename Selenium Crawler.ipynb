{
 "cells": [
  {
   "cell_type": "code",
   "execution_count": 63,
   "id": "143a2452",
   "metadata": {},
   "outputs": [],
   "source": [
    "# !pip install selenium"
   ]
  },
  {
   "cell_type": "code",
   "execution_count": 68,
   "id": "6910617f",
   "metadata": {},
   "outputs": [],
   "source": [
    "from selenium import webdriver \n",
    "import time\n",
    "from tqdm.notebook import tqdm"
   ]
  },
  {
   "cell_type": "code",
   "execution_count": 85,
   "id": "fce98687",
   "metadata": {},
   "outputs": [
    {
     "name": "stderr",
     "output_type": "stream",
     "text": [
      "<ipython-input-85-04ac6eee3843>:1: DeprecationWarning: executable_path has been deprecated, please pass in a Service object\n",
      "  driver = webdriver.Firefox(executable_path='driver/geckodriver.exe')\n"
     ]
    },
    {
     "name": "stdout",
     "output_type": "stream",
     "text": [
      "Picture yourself, residing in this well constructed and planned 1850 SQ FT apartment in Dhanmondi for rent, near Bangladesh Medical College | Bproperty.com\n"
     ]
    }
   ],
   "source": [
    "driver = webdriver.Firefox(executable_path='driver/geckodriver.exe')\n",
    "\n",
    "URL = 'https://www.bproperty.com/en/property/details-1716479.html'\n",
    "driver.get(URL)\n",
    "print (driver.title)"
   ]
  },
  {
   "cell_type": "code",
   "execution_count": 86,
   "id": "1477d3cf",
   "metadata": {},
   "outputs": [
    {
     "name": "stderr",
     "output_type": "stream",
     "text": [
      "<ipython-input-86-d49ef69592f3>:3: DeprecationWarning: find_element_by_* commands are deprecated. Please use find_element() instead\n",
      "  driver.find_element_by_xpath('//div[@class=\"_4866b17e\"]').click()\n"
     ]
    }
   ],
   "source": [
    "## Open JS Map\n",
    "\n",
    "driver.find_element_by_xpath('//div[@class=\"_4866b17e\"]').click()"
   ]
  },
  {
   "cell_type": "code",
   "execution_count": 87,
   "id": "f5e657c8",
   "metadata": {},
   "outputs": [
    {
     "name": "stderr",
     "output_type": "stream",
     "text": [
      "<ipython-input-87-23bb3931b7a1>:6: DeprecationWarning: find_elements_by_* commands are deprecated. Please use find_elements() instead\n",
      "  tabs = driver.find_elements_by_xpath('//li[@class=\"a17d0d0d\"]')\n"
     ]
    },
    {
     "data": {
      "application/vnd.jupyter.widget-view+json": {
       "model_id": "0cad8022eea146288342194d6fda76d3",
       "version_major": 2,
       "version_minor": 0
      },
      "text/plain": [
       "  0%|          | 0/4 [00:00<?, ?it/s]"
      ]
     },
     "metadata": {},
     "output_type": "display_data"
    }
   ],
   "source": [
    "schools = []\n",
    "restaurants = []\n",
    "hospitals = []\n",
    "parks = []\n",
    "\n",
    "tabs = driver.find_elements_by_xpath('//li[@class=\"a17d0d0d\"]')\n",
    "\n",
    "for i in tqdm(range(4)):\n",
    "    tabs[i].click()\n",
    "    time.sleep(5)\n",
    "    \n",
    "    nearby = driver.find_elements(by='xpath', value='//div[@class=\"daf61ad1\"]')\n",
    "    \n",
    "    if i == 0:\n",
    "        for item in nearby:\n",
    "            schools.append(item.text)\n",
    "            \n",
    "    if i == 1:\n",
    "        for item in nearby:\n",
    "            restaurants.append(item.text)\n",
    "            \n",
    "    if i == 2:\n",
    "        for item in nearby:\n",
    "            hospitals.append(item.text)\n",
    "            \n",
    "    if i == 3:\n",
    "        for item in nearby:\n",
    "            parks.append(item.text)\n",
    "        \n"
   ]
  },
  {
   "cell_type": "code",
   "execution_count": 88,
   "id": "bbd229ef",
   "metadata": {},
   "outputs": [
    {
     "data": {
      "text/plain": [
       "['Government Laboratory High School',\n",
       " 'University Of Liberal Arts Bangladesh',\n",
       " 'University Of Liberal Arts Bangladesh',\n",
       " 'European Standard School',\n",
       " 'Future Generation International School',\n",
       " 'Gojmahal Tannery High School',\n",
       " 'Stamford University',\n",
       " 'Stamford University',\n",
       " 'Oxford International School',\n",
       " 'Eastern University',\n",
       " 'Future Generation International School',\n",
       " 'Bangladesh Research Institute for Integrated Medicine',\n",
       " 'University Of Development Alternative',\n",
       " 'World University',\n",
       " 'ধানমন্ডি টিউটোরিয়াল স্কুল',\n",
       " 'Easturn University , Building #4',\n",
       " 'Vertical Horizon',\n",
       " 'UIU 2nd campus',\n",
       " 'Oxford School',\n",
       " 'EduCounsel,',\n",
       " 'Govt Physical College',\n",
       " 'Ideal collage',\n",
       " 'ঢাকা সিটি কলেজ',\n",
       " 'Square College of Nursing',\n",
       " 'Dhaka City College',\n",
       " 'Just International School',\n",
       " 'এবি ব্যাংক একাডেমি',\n",
       " 'Salvation School',\n",
       " 'Eslamiya Madrassa',\n",
       " 'Jamia Islamia Darul Karar Madrasah',\n",
       " 'National Memorial High School',\n",
       " 'Daffodil International University',\n",
       " 'Graphic Art Institute',\n",
       " 'State University of Bangladesh',\n",
       " 'Darul Ihsan University',\n",
       " 'Dhanmondi Girls School',\n",
       " 'Lalmatia Girls High School',\n",
       " 'Lalmatia Mohila College',\n",
       " 'Zarina Sikder Girls School and College',\n",
       " 'Iranian International School',\n",
       " 'Eastern University',\n",
       " 'BM Laboratory School',\n",
       " 'B.M Laboratory School',\n",
       " 'Ciam School',\n",
       " 'Europa International School',\n",
       " 'Ayesha Academy School',\n",
       " 'Holy Flower Model College',\n",
       " 'Mollick preparatory school / Singing Academy',\n",
       " 'Moneshwar Government Primary School',\n",
       " 'Sufia Zinan International School']"
      ]
     },
     "execution_count": 88,
     "metadata": {},
     "output_type": "execute_result"
    }
   ],
   "source": [
    "schools"
   ]
  },
  {
   "cell_type": "code",
   "execution_count": 89,
   "id": "dd713466",
   "metadata": {},
   "outputs": [
    {
     "data": {
      "text/plain": [
       "['Fakhruddin Convention Center',\n",
       " 'Pizza Hut Delivery',\n",
       " 'Shawarma House',\n",
       " 'Old Terrace',\n",
       " 'KFC',\n",
       " 'Sauslys Food',\n",
       " 'Rosue',\n",
       " 'FFC',\n",
       " 'Fortuna Fried Chicken',\n",
       " 'BFC',\n",
       " 'Tehari Ghor',\n",
       " 'বেঙ্গল ক্যাফে',\n",
       " 'Vikrampur Mistanno Bhandar',\n",
       " 'Gausul Azam Restaurant',\n",
       " 'Anondo Snacks',\n",
       " 'Khaja Ajmeri Hotel',\n",
       " 'Hot & Fresh',\n",
       " 'Panshee',\n",
       " 'Bachelor Point',\n",
       " 'Pizza Hut',\n",
       " 'Kachalonka Restaurant And Kabab Garden',\n",
       " 'Sapta Dinga',\n",
       " 'Dhanmondi Party Center',\n",
       " 'Pit Grill',\n",
       " 'Sampan',\n",
       " 'Four Season',\n",
       " 'Pizza Hut',\n",
       " 'Star Kabab',\n",
       " 'Dynamic Food Court',\n",
       " 'Ajo',\n",
       " 'Cafeteria 2',\n",
       " 'Santoor',\n",
       " 'Five Star cp',\n",
       " 'Cafeteria 1',\n",
       " 'Fry Town',\n",
       " 'Kosturi',\n",
       " 'Eram',\n",
       " 'Polash',\n",
       " 'Cafe Darbar',\n",
       " 'Sampan',\n",
       " 'Star Kabab Hotel & Restaurant',\n",
       " 'Bachelor Point',\n",
       " 'Sunami Restaurant',\n",
       " 'Coffee House',\n",
       " 'Nandos',\n",
       " 'Bar-B-Q Tonite',\n",
       " 'Cream and Fudge Factory',\n",
       " 'Shad Tehari Ghar',\n",
       " 'Punizz Kitchen',\n",
       " 'Burger & Boost']"
      ]
     },
     "execution_count": 89,
     "metadata": {},
     "output_type": "execute_result"
    }
   ],
   "source": [
    "restaurants"
   ]
  },
  {
   "cell_type": "code",
   "execution_count": 90,
   "id": "14dde82e",
   "metadata": {},
   "outputs": [
    {
     "data": {
      "text/plain": [
       "['Lazz Pharma',\n",
       " 'Nilu Pharmacy',\n",
       " 'Lazz Pharma (Dhanmondi Branch)',\n",
       " 'IBN Sina Diagonistic and Imaging Centre',\n",
       " 'Get-Cured Pharmacy',\n",
       " 'স্কয়ার হাসপাতাল',\n",
       " 'Consultorio Dental',\n",
       " 'Litu General Hospital',\n",
       " 'Nazrul Pharmacy',\n",
       " 'Hazi Pharma',\n",
       " 'Ma Pharmacy',\n",
       " 'Rafi Pharmacy',\n",
       " 'Wellbeing Pharmacy',\n",
       " 'Rafi Pharmacy',\n",
       " 'Modern Physiotherapy',\n",
       " 'Anowara Medical Services',\n",
       " 'popular hospital',\n",
       " 'Ibnesina',\n",
       " 'Ibn Sina Pharmacy',\n",
       " 'Islam Pharma',\n",
       " 'Hazaribag Bazar Road',\n",
       " 'Road 10A']"
      ]
     },
     "execution_count": 90,
     "metadata": {},
     "output_type": "execute_result"
    }
   ],
   "source": [
    "hospitals"
   ]
  },
  {
   "cell_type": "code",
   "execution_count": 91,
   "id": "dd32aade",
   "metadata": {},
   "outputs": [
    {
     "data": {
      "text/plain": [
       "['Staff Quarter Park',\n",
       " 'Neighbourhood park and sports ground',\n",
       " 'D-Block field',\n",
       " 'লাইবা আইল্যান্ড',\n",
       " 'Dhanmondi Lake Park',\n",
       " 'ধানমন্ডি লেক পার্ক',\n",
       " 'Sobhanbag Querter Playground',\n",
       " 'Kalabagan Cricket Ground',\n",
       " 'Kalabagan Staff Quarter Playground',\n",
       " 'Abahoni Field',\n",
       " 'Dimitra',\n",
       " 'Boishakhi Khelar Math',\n",
       " 'Parten Garden',\n",
       " 'Sikder Ground',\n",
       " 'Dhaka College Flowers Garden',\n",
       " '2nd Play Ground',\n",
       " 'Lt. Sheikh Jamal Dhanmondi Club Ltd.',\n",
       " 'Poribes sottor',\n",
       " 'Sultana Kamal Women Complex',\n",
       " 'TT College Garden',\n",
       " 'TT College Play Ground',\n",
       " 'TT College',\n",
       " 'Badminton Court',\n",
       " 'Vollyball Court',\n",
       " 'School Playground',\n",
       " 'Faculty of Social Welfare, Dhaka University',\n",
       " 'Dhanmondi Lake Park',\n",
       " 'Dhanmondi Lake Park',\n",
       " 'Dhanmondi Lake Park',\n",
       " 'abir park',\n",
       " 'Lalmatia Girls High School Field',\n",
       " 'Dhanmondi 32 no. Lake Park',\n",
       " 'Cricket Ground',\n",
       " 'Dhanmondi Lake Park',\n",
       " 'Gojmahal play ground',\n",
       " 'Kalabagan Park',\n",
       " 'Small park yard',\n",
       " 'MCT Bhuiyan Garden',\n",
       " 'Gojmohol School Ground',\n",
       " 'Shchool Playground',\n",
       " 'Mohila Crira Complex',\n",
       " 'Schhol garden',\n",
       " 'Playground',\n",
       " 'Women sports complex',\n",
       " 'Dhanmondi Local Playground',\n",
       " 'Dhanmondi R/A',\n",
       " 'Sonatangor-সনাতনগড়',\n",
       " 'Hazaribagh Tannery Area',\n",
       " 'Nijhum Residential Area',\n",
       " 'Sonatangor']"
      ]
     },
     "execution_count": 91,
     "metadata": {},
     "output_type": "execute_result"
    }
   ],
   "source": [
    "parks"
   ]
  },
  {
   "cell_type": "code",
   "execution_count": 84,
   "id": "20b8fb1f",
   "metadata": {},
   "outputs": [],
   "source": [
    "driver.quit()"
   ]
  },
  {
   "cell_type": "code",
   "execution_count": null,
   "id": "cd50ae7d",
   "metadata": {},
   "outputs": [],
   "source": []
  }
 ],
 "metadata": {
  "kernelspec": {
   "display_name": "Python 3",
   "language": "python",
   "name": "python3"
  },
  "language_info": {
   "codemirror_mode": {
    "name": "ipython",
    "version": 3
   },
   "file_extension": ".py",
   "mimetype": "text/x-python",
   "name": "python",
   "nbconvert_exporter": "python",
   "pygments_lexer": "ipython3",
   "version": "3.8.8"
  }
 },
 "nbformat": 4,
 "nbformat_minor": 5
}
