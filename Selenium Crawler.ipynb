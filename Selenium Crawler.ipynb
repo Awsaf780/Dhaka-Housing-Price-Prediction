{
 "cells": [
  {
   "cell_type": "code",
   "execution_count": 1,
   "id": "aae3fbb5",
   "metadata": {},
   "outputs": [],
   "source": [
    "# !pip install selenium"
   ]
  },
  {
   "cell_type": "code",
   "execution_count": 2,
   "id": "d0c2d44e",
   "metadata": {},
   "outputs": [],
   "source": [
    "from selenium import webdriver \n",
    "import time\n",
    "from tqdm.notebook import tqdm"
   ]
  },
  {
   "cell_type": "code",
   "execution_count": 3,
   "id": "d15d93b1",
   "metadata": {},
   "outputs": [
    {
     "name": "stderr",
     "output_type": "stream",
     "text": [
      "<ipython-input-3-04ac6eee3843>:1: DeprecationWarning: executable_path has been deprecated, please pass in a Service object\n",
      "  driver = webdriver.Firefox(executable_path='driver/geckodriver.exe')\n"
     ]
    },
    {
     "name": "stdout",
     "output_type": "stream",
     "text": [
      "Picture yourself, residing in this well constructed and planned 1850 SQ FT apartment in Dhanmondi for rent, near Bangladesh Medical College | Bproperty.com\n"
     ]
    }
   ],
   "source": [
    "driver = webdriver.Firefox(executable_path='driver/geckodriver.exe')\n",
    "\n",
    "URL = 'https://www.bproperty.com/en/property/details-1716479.html'\n",
    "driver.get(URL)\n",
    "print (driver.title)"
   ]
  },
  {
   "cell_type": "code",
   "execution_count": 4,
   "id": "3f986563",
   "metadata": {},
   "outputs": [
    {
     "name": "stderr",
     "output_type": "stream",
     "text": [
      "<ipython-input-4-d49ef69592f3>:3: DeprecationWarning: find_element_by_* commands are deprecated. Please use find_element() instead\n",
      "  driver.find_element_by_xpath('//div[@class=\"_4866b17e\"]').click()\n"
     ]
    }
   ],
   "source": [
    "## Open JS Map\n",
    "\n",
    "driver.find_element_by_xpath('//div[@class=\"_4866b17e\"]').click()"
   ]
  },
  {
   "cell_type": "code",
   "execution_count": 5,
   "id": "1b787606",
   "metadata": {},
   "outputs": [
    {
     "name": "stderr",
     "output_type": "stream",
     "text": [
      "<ipython-input-5-23bb3931b7a1>:6: DeprecationWarning: find_elements_by_* commands are deprecated. Please use find_elements() instead\n",
      "  tabs = driver.find_elements_by_xpath('//li[@class=\"a17d0d0d\"]')\n"
     ]
    },
    {
     "data": {
      "application/vnd.jupyter.widget-view+json": {
       "model_id": "db3b97d35b64435db50006bf1c90983a",
       "version_major": 2,
       "version_minor": 0
      },
      "text/plain": [
       "  0%|          | 0/4 [00:00<?, ?it/s]"
      ]
     },
     "metadata": {},
     "output_type": "display_data"
    }
   ],
   "source": [
    "schools = []\n",
    "restaurants = []\n",
    "hospitals = []\n",
    "parks = []\n",
    "\n",
    "tabs = driver.find_elements_by_xpath('//li[@class=\"a17d0d0d\"]')\n",
    "\n",
    "for i in tqdm(range(4)):\n",
    "    tabs[i].click()\n",
    "    time.sleep(5)\n",
    "    \n",
    "    nearby = driver.find_elements(by='xpath', value='//div[@class=\"daf61ad1\"]')\n",
    "    \n",
    "    if i == 0:\n",
    "        for item in nearby:\n",
    "            schools.append(item.text)\n",
    "            \n",
    "    if i == 1:\n",
    "        for item in nearby:\n",
    "            restaurants.append(item.text)\n",
    "            \n",
    "    if i == 2:\n",
    "        for item in nearby:\n",
    "            hospitals.append(item.text)\n",
    "            \n",
    "    if i == 3:\n",
    "        for item in nearby:\n",
    "            parks.append(item.text)\n",
    "        \n"
   ]
  },
  {
   "cell_type": "code",
   "execution_count": 10,
   "id": "fd0756f7",
   "metadata": {},
   "outputs": [],
   "source": [
    "driver.quit()"
   ]
  },
  {
   "cell_type": "code",
   "execution_count": null,
   "id": "e56860d0",
   "metadata": {},
   "outputs": [],
   "source": []
  }
 ],
 "metadata": {
  "kernelspec": {
   "display_name": "Python 3",
   "language": "python",
   "name": "python3"
  },
  "language_info": {
   "codemirror_mode": {
    "name": "ipython",
    "version": 3
   },
   "file_extension": ".py",
   "mimetype": "text/x-python",
   "name": "python",
   "nbconvert_exporter": "python",
   "pygments_lexer": "ipython3",
   "version": "3.8.8"
  }
 },
 "nbformat": 4,
 "nbformat_minor": 5
}
