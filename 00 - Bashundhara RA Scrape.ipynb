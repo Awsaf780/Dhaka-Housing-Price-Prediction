{
 "cells": [
  {
   "cell_type": "code",
   "execution_count": 1,
   "id": "6ce6889b",
   "metadata": {},
   "outputs": [],
   "source": [
    "import pandas as pd\n",
    "import requests\n",
    "from bs4 import BeautifulSoup\n",
    "\n",
    "from tqdm.notebook import tqdm"
   ]
  },
  {
   "cell_type": "code",
   "execution_count": 2,
   "id": "75ef428c",
   "metadata": {},
   "outputs": [],
   "source": [
    "def get_property_data(url):\n",
    "    response = requests.get(url, headers={'User-Agent': 'Mozilla/5.0'})\n",
    "    text = response.text\n",
    "    soup = BeautifulSoup(text, 'lxml')\n",
    "\n",
    "    price_list = soup.find_all(\"span\", class_='f343d9ce')\n",
    "    add_small_list = soup.find_all('div', class_='_7afabd84')\n",
    "    type_list = soup.find_all('div', class_='_9a4e3964')\n",
    "    desc_list = soup.find_all('h2', class_='_7f17f34f')\n",
    "    beds_list = soup.find_all('span', class_='b6a29bc0') # 72 instances\n",
    "    href_list = soup.find_all('a', class_='_287661cb')\n",
    "\n",
    "    prices = []\n",
    "    for price_s in price_list:\n",
    "        price = float(str(price_s).split(' ')[2].replace('class=\"f343d9ce\">', '').replace('</span>', '').replace(',', ''))\n",
    "        prices.append(price)\n",
    "\n",
    "    blocks = []\n",
    "    areas = []\n",
    "    districts = []\n",
    "\n",
    "    for loc in add_small_list:\n",
    "        block, area, district = str(loc).split('>')[1].replace('</div', '').strip().split(',')\n",
    "        block = block.strip()\n",
    "        area = area.strip()\n",
    "        district = district.strip()\n",
    "\n",
    "        blocks.append(block)\n",
    "        areas.append(area)\n",
    "        districts.append(district)\n",
    "\n",
    "    types = []\n",
    "\n",
    "    for type in type_list:\n",
    "        type = str(type).split('>')[1].replace('</div', '').strip()\n",
    "\n",
    "        types.append(type)\n",
    "\n",
    "    descriptions = []\n",
    "\n",
    "    for desc in desc_list:\n",
    "        desc = str(desc).split('>')[1].replace('</h2', '').strip()\n",
    "\n",
    "        descriptions.append(desc)\n",
    "\n",
    "    hrefs = []\n",
    "\n",
    "    for href in href_list:\n",
    "        link = str(href).split('\"')[5]\n",
    "        hrefs.append(link)\n",
    "\n",
    "    i = 0\n",
    "    beds = []\n",
    "    while i < len(beds_list):\n",
    "        bed = str(beds_list[i]).replace('<span aria-label=\"Beds\" class=\"b6a29bc0\">', '').replace('</span>', '')\n",
    "        beds.append(bed)\n",
    "\n",
    "        i += 3\n",
    "\n",
    "    i = 1\n",
    "    baths = []\n",
    "    while i < len(beds_list):\n",
    "        bath = str(beds_list[i]).replace('<span aria-label=\"Baths\" class=\"b6a29bc0\">', '').replace('</span>', '')\n",
    "        baths.append(bath)\n",
    "\n",
    "        i += 3\n",
    "\n",
    "    i = 2\n",
    "    dims = []\n",
    "    while i < len(beds_list):\n",
    "        dim = str(beds_list[i]).replace('<span aria-label=\"Area\" class=\"b6a29bc0\">', '').replace('</span>', '').replace('<span>', '')\n",
    "        dims.append(dim)\n",
    "\n",
    "        i += 3\n",
    "\n",
    "\n",
    "    df = pd.DataFrame(list(zip(dims, beds, baths, types, districts, areas, \n",
    "                               blocks, descriptions, hrefs, prices)), \n",
    "                      columns=['dimensions', 'num_beds', 'num_baths', 'house_type', 'city', \n",
    "                               'location', 'area_block', 'description', 'url', 'price'])\n",
    "    \n",
    "    return df"
   ]
  },
  {
   "cell_type": "code",
   "execution_count": 9,
   "id": "7dbc0421",
   "metadata": {},
   "outputs": [
    {
     "data": {
      "application/vnd.jupyter.widget-view+json": {
       "model_id": "613edbcb198c494a85bb3c9653d43330",
       "version_major": 2,
       "version_minor": 0
      },
      "text/plain": [
       "  0%|          | 0/70 [00:00<?, ?it/s]"
      ]
     },
     "metadata": {},
     "output_type": "display_data"
    }
   ],
   "source": [
    "dfs = []\n",
    "\n",
    "for i in tqdm(range(70)):\n",
    "    if i == 0:\n",
    "        continue\n",
    "    if i == 1:\n",
    "        url = 'https://www.bproperty.com/en/dhaka/apartments-for-rent-in-bashundhara-r-a/?occupancy_status=vacant'\n",
    "    else:\n",
    "        url = f'https://www.bproperty.com/en/dhaka/apartments-for-rent-in-bashundhara-r-a/page-{i}/?occupancy_status=vacant'\n",
    "    \n",
    "    dfs.append(get_property_data(url))"
   ]
  },
  {
   "cell_type": "code",
   "execution_count": 10,
   "id": "1e50a906",
   "metadata": {
    "scrolled": true
   },
   "outputs": [],
   "source": [
    "df = pd.concat(dfs)"
   ]
  },
  {
   "cell_type": "code",
   "execution_count": 11,
   "id": "00c2603f",
   "metadata": {},
   "outputs": [
    {
     "data": {
      "text/html": [
       "<div>\n",
       "<style scoped>\n",
       "    .dataframe tbody tr th:only-of-type {\n",
       "        vertical-align: middle;\n",
       "    }\n",
       "\n",
       "    .dataframe tbody tr th {\n",
       "        vertical-align: top;\n",
       "    }\n",
       "\n",
       "    .dataframe thead th {\n",
       "        text-align: right;\n",
       "    }\n",
       "</style>\n",
       "<table border=\"1\" class=\"dataframe\">\n",
       "  <thead>\n",
       "    <tr style=\"text-align: right;\">\n",
       "      <th></th>\n",
       "      <th>dimensions</th>\n",
       "      <th>num_beds</th>\n",
       "      <th>num_baths</th>\n",
       "      <th>house_type</th>\n",
       "      <th>city</th>\n",
       "      <th>location</th>\n",
       "      <th>area_block</th>\n",
       "      <th>description</th>\n",
       "      <th>url</th>\n",
       "      <th>price</th>\n",
       "    </tr>\n",
       "  </thead>\n",
       "  <tbody>\n",
       "    <tr>\n",
       "      <th>0</th>\n",
       "      <td>2,055 sqft</td>\n",
       "      <td>4</td>\n",
       "      <td>4</td>\n",
       "      <td>Apartment</td>\n",
       "      <td>Dhaka</td>\n",
       "      <td>Bashundhara R-A</td>\n",
       "      <td>Block D</td>\n",
       "      <td>2055 Sq Ft Cozy Flat For Rent In Bashundhara R...</td>\n",
       "      <td>/en/property/details-5237946.html</td>\n",
       "      <td>35000.0</td>\n",
       "    </tr>\n",
       "    <tr>\n",
       "      <th>1</th>\n",
       "      <td>1,911 sqft</td>\n",
       "      <td>3</td>\n",
       "      <td>3</td>\n",
       "      <td>Apartment</td>\n",
       "      <td>Dhaka</td>\n",
       "      <td>Bashundhara R-A</td>\n",
       "      <td>Block A</td>\n",
       "      <td>Emanate Your Knack For Gardening By Renting Th...</td>\n",
       "      <td>/en/property/details-3875341.html</td>\n",
       "      <td>45000.0</td>\n",
       "    </tr>\n",
       "    <tr>\n",
       "      <th>2</th>\n",
       "      <td>1,200 sqft</td>\n",
       "      <td>3</td>\n",
       "      <td>3</td>\n",
       "      <td>Apartment</td>\n",
       "      <td>Dhaka</td>\n",
       "      <td>Bashundhara R-A</td>\n",
       "      <td>Block K</td>\n",
       "      <td>To Secure Your Better State Of Living, Conside...</td>\n",
       "      <td>/en/property/details-5182996.html</td>\n",
       "      <td>20000.0</td>\n",
       "    </tr>\n",
       "    <tr>\n",
       "      <th>3</th>\n",
       "      <td>1,910 sqft</td>\n",
       "      <td>3</td>\n",
       "      <td>3</td>\n",
       "      <td>Apartment</td>\n",
       "      <td>Dhaka</td>\n",
       "      <td>Bashundhara R-A</td>\n",
       "      <td>Block A</td>\n",
       "      <td>For Rental Purpose 1910 Sq Ft Commendable Desi...</td>\n",
       "      <td>/en/property/details-3875358.html</td>\n",
       "      <td>45000.0</td>\n",
       "    </tr>\n",
       "    <tr>\n",
       "      <th>4</th>\n",
       "      <td>800 sqft</td>\n",
       "      <td>2</td>\n",
       "      <td>2</td>\n",
       "      <td>Apartment</td>\n",
       "      <td>Dhaka</td>\n",
       "      <td>Bashundhara R-A</td>\n",
       "      <td>Block G</td>\n",
       "      <td>Bright And Cozy Apartment Featuring 800 Sq Ft ...</td>\n",
       "      <td>/en/property/details-3651253.html</td>\n",
       "      <td>18000.0</td>\n",
       "    </tr>\n",
       "  </tbody>\n",
       "</table>\n",
       "</div>"
      ],
      "text/plain": [
       "   dimensions num_beds num_baths house_type   city         location  \\\n",
       "0  2,055 sqft        4         4  Apartment  Dhaka  Bashundhara R-A   \n",
       "1  1,911 sqft        3         3  Apartment  Dhaka  Bashundhara R-A   \n",
       "2  1,200 sqft        3         3  Apartment  Dhaka  Bashundhara R-A   \n",
       "3  1,910 sqft        3         3  Apartment  Dhaka  Bashundhara R-A   \n",
       "4    800 sqft        2         2  Apartment  Dhaka  Bashundhara R-A   \n",
       "\n",
       "  area_block                                        description  \\\n",
       "0    Block D  2055 Sq Ft Cozy Flat For Rent In Bashundhara R...   \n",
       "1    Block A  Emanate Your Knack For Gardening By Renting Th...   \n",
       "2    Block K  To Secure Your Better State Of Living, Conside...   \n",
       "3    Block A  For Rental Purpose 1910 Sq Ft Commendable Desi...   \n",
       "4    Block G  Bright And Cozy Apartment Featuring 800 Sq Ft ...   \n",
       "\n",
       "                                 url    price  \n",
       "0  /en/property/details-5237946.html  35000.0  \n",
       "1  /en/property/details-3875341.html  45000.0  \n",
       "2  /en/property/details-5182996.html  20000.0  \n",
       "3  /en/property/details-3875358.html  45000.0  \n",
       "4  /en/property/details-3651253.html  18000.0  "
      ]
     },
     "execution_count": 11,
     "metadata": {},
     "output_type": "execute_result"
    }
   ],
   "source": [
    "df.head()"
   ]
  },
  {
   "cell_type": "code",
   "execution_count": 12,
   "id": "e61bf7e7",
   "metadata": {},
   "outputs": [
    {
     "data": {
      "text/plain": [
       "(1534, 10)"
      ]
     },
     "execution_count": 12,
     "metadata": {},
     "output_type": "execute_result"
    }
   ],
   "source": [
    "df.shape"
   ]
  },
  {
   "cell_type": "code",
   "execution_count": 13,
   "id": "45d26075",
   "metadata": {},
   "outputs": [
    {
     "name": "stdout",
     "output_type": "stream",
     "text": [
      "<class 'pandas.core.frame.DataFrame'>\n",
      "Int64Index: 1534 entries, 0 to 22\n",
      "Data columns (total 10 columns):\n",
      " #   Column       Non-Null Count  Dtype  \n",
      "---  ------       --------------  -----  \n",
      " 0   dimensions   1534 non-null   object \n",
      " 1   num_beds     1534 non-null   object \n",
      " 2   num_baths    1534 non-null   object \n",
      " 3   house_type   1534 non-null   object \n",
      " 4   city         1534 non-null   object \n",
      " 5   location     1534 non-null   object \n",
      " 6   area_block   1534 non-null   object \n",
      " 7   description  1534 non-null   object \n",
      " 8   url          1534 non-null   object \n",
      " 9   price        1534 non-null   float64\n",
      "dtypes: float64(1), object(9)\n",
      "memory usage: 131.8+ KB\n"
     ]
    }
   ],
   "source": [
    "df.info()"
   ]
  },
  {
   "cell_type": "code",
   "execution_count": 8,
   "id": "1d4a215f",
   "metadata": {},
   "outputs": [],
   "source": [
    "# df.to_csv('bproperty_bashundhara_RA.csv', index=False)"
   ]
  }
 ],
 "metadata": {
  "kernelspec": {
   "display_name": "Python 3",
   "language": "python",
   "name": "python3"
  },
  "language_info": {
   "codemirror_mode": {
    "name": "ipython",
    "version": 3
   },
   "file_extension": ".py",
   "mimetype": "text/x-python",
   "name": "python",
   "nbconvert_exporter": "python",
   "pygments_lexer": "ipython3",
   "version": "3.8.8"
  }
 },
 "nbformat": 4,
 "nbformat_minor": 5
}
