{
 "cells": [
  {
   "cell_type": "code",
   "execution_count": 59,
   "id": "8c8898f9",
   "metadata": {},
   "outputs": [],
   "source": [
    "from selenium import webdriver \n",
    "import time\n",
    "from tqdm.notebook import tqdm\n",
    "import pandas as pd\n",
    "import json, csv\n",
    "\n",
    "import warnings\n",
    "warnings.filterwarnings('ignore')"
   ]
  },
  {
   "cell_type": "code",
   "execution_count": 60,
   "id": "24dc2304",
   "metadata": {},
   "outputs": [],
   "source": [
    "df = pd.read_csv('combined.csv')"
   ]
  },
  {
   "cell_type": "code",
   "execution_count": 61,
   "id": "cf970dec",
   "metadata": {},
   "outputs": [
    {
     "data": {
      "text/html": [
       "<div>\n",
       "<style scoped>\n",
       "    .dataframe tbody tr th:only-of-type {\n",
       "        vertical-align: middle;\n",
       "    }\n",
       "\n",
       "    .dataframe tbody tr th {\n",
       "        vertical-align: top;\n",
       "    }\n",
       "\n",
       "    .dataframe thead th {\n",
       "        text-align: right;\n",
       "    }\n",
       "</style>\n",
       "<table border=\"1\" class=\"dataframe\">\n",
       "  <thead>\n",
       "    <tr style=\"text-align: right;\">\n",
       "      <th></th>\n",
       "      <th>dimensions</th>\n",
       "      <th>num_beds</th>\n",
       "      <th>num_baths</th>\n",
       "      <th>house_type</th>\n",
       "      <th>city</th>\n",
       "      <th>location</th>\n",
       "      <th>area_block</th>\n",
       "      <th>description</th>\n",
       "      <th>url</th>\n",
       "      <th>price</th>\n",
       "      <th>unique_id</th>\n",
       "    </tr>\n",
       "  </thead>\n",
       "  <tbody>\n",
       "    <tr>\n",
       "      <th>0</th>\n",
       "      <td>2,055 sqft</td>\n",
       "      <td>4</td>\n",
       "      <td>4</td>\n",
       "      <td>Apartment</td>\n",
       "      <td>Dhaka</td>\n",
       "      <td>Bashundhara R-A</td>\n",
       "      <td>Block D</td>\n",
       "      <td>2055 Sq Ft Cozy Flat For Rent In Bashundhara R...</td>\n",
       "      <td>https://www.bproperty.com/en/property/details-...</td>\n",
       "      <td>35000.0</td>\n",
       "      <td>5237946</td>\n",
       "    </tr>\n",
       "    <tr>\n",
       "      <th>1</th>\n",
       "      <td>1,911 sqft</td>\n",
       "      <td>3</td>\n",
       "      <td>3</td>\n",
       "      <td>Apartment</td>\n",
       "      <td>Dhaka</td>\n",
       "      <td>Bashundhara R-A</td>\n",
       "      <td>Block A</td>\n",
       "      <td>Emanate Your Knack For Gardening By Renting Th...</td>\n",
       "      <td>https://www.bproperty.com/en/property/details-...</td>\n",
       "      <td>45000.0</td>\n",
       "      <td>3875341</td>\n",
       "    </tr>\n",
       "    <tr>\n",
       "      <th>2</th>\n",
       "      <td>1,200 sqft</td>\n",
       "      <td>3</td>\n",
       "      <td>3</td>\n",
       "      <td>Apartment</td>\n",
       "      <td>Dhaka</td>\n",
       "      <td>Bashundhara R-A</td>\n",
       "      <td>Block K</td>\n",
       "      <td>To Secure Your Better State Of Living, Conside...</td>\n",
       "      <td>https://www.bproperty.com/en/property/details-...</td>\n",
       "      <td>20000.0</td>\n",
       "      <td>5182996</td>\n",
       "    </tr>\n",
       "    <tr>\n",
       "      <th>3</th>\n",
       "      <td>1,910 sqft</td>\n",
       "      <td>3</td>\n",
       "      <td>3</td>\n",
       "      <td>Apartment</td>\n",
       "      <td>Dhaka</td>\n",
       "      <td>Bashundhara R-A</td>\n",
       "      <td>Block A</td>\n",
       "      <td>For Rental Purpose 1910 Sq Ft Commendable Desi...</td>\n",
       "      <td>https://www.bproperty.com/en/property/details-...</td>\n",
       "      <td>45000.0</td>\n",
       "      <td>3875358</td>\n",
       "    </tr>\n",
       "    <tr>\n",
       "      <th>4</th>\n",
       "      <td>800 sqft</td>\n",
       "      <td>2</td>\n",
       "      <td>2</td>\n",
       "      <td>Apartment</td>\n",
       "      <td>Dhaka</td>\n",
       "      <td>Bashundhara R-A</td>\n",
       "      <td>Block G</td>\n",
       "      <td>Bright And Cozy Apartment Featuring 800 Sq Ft ...</td>\n",
       "      <td>https://www.bproperty.com/en/property/details-...</td>\n",
       "      <td>18000.0</td>\n",
       "      <td>3651253</td>\n",
       "    </tr>\n",
       "  </tbody>\n",
       "</table>\n",
       "</div>"
      ],
      "text/plain": [
       "   dimensions  num_beds  num_baths house_type   city         location  \\\n",
       "0  2,055 sqft         4          4  Apartment  Dhaka  Bashundhara R-A   \n",
       "1  1,911 sqft         3          3  Apartment  Dhaka  Bashundhara R-A   \n",
       "2  1,200 sqft         3          3  Apartment  Dhaka  Bashundhara R-A   \n",
       "3  1,910 sqft         3          3  Apartment  Dhaka  Bashundhara R-A   \n",
       "4    800 sqft         2          2  Apartment  Dhaka  Bashundhara R-A   \n",
       "\n",
       "  area_block                                        description  \\\n",
       "0    Block D  2055 Sq Ft Cozy Flat For Rent In Bashundhara R...   \n",
       "1    Block A  Emanate Your Knack For Gardening By Renting Th...   \n",
       "2    Block K  To Secure Your Better State Of Living, Conside...   \n",
       "3    Block A  For Rental Purpose 1910 Sq Ft Commendable Desi...   \n",
       "4    Block G  Bright And Cozy Apartment Featuring 800 Sq Ft ...   \n",
       "\n",
       "                                                 url    price  unique_id  \n",
       "0  https://www.bproperty.com/en/property/details-...  35000.0    5237946  \n",
       "1  https://www.bproperty.com/en/property/details-...  45000.0    3875341  \n",
       "2  https://www.bproperty.com/en/property/details-...  20000.0    5182996  \n",
       "3  https://www.bproperty.com/en/property/details-...  45000.0    3875358  \n",
       "4  https://www.bproperty.com/en/property/details-...  18000.0    3651253  "
      ]
     },
     "execution_count": 61,
     "metadata": {},
     "output_type": "execute_result"
    }
   ],
   "source": [
    "df.head()"
   ]
  },
  {
   "cell_type": "code",
   "execution_count": 62,
   "id": "2bafe631",
   "metadata": {},
   "outputs": [],
   "source": [
    "completed = pd.read_csv('tertiary.csv', header=None)"
   ]
  },
  {
   "cell_type": "code",
   "execution_count": 63,
   "id": "e28388a9",
   "metadata": {},
   "outputs": [
    {
     "data": {
      "text/html": [
       "<div>\n",
       "<style scoped>\n",
       "    .dataframe tbody tr th:only-of-type {\n",
       "        vertical-align: middle;\n",
       "    }\n",
       "\n",
       "    .dataframe tbody tr th {\n",
       "        vertical-align: top;\n",
       "    }\n",
       "\n",
       "    .dataframe thead th {\n",
       "        text-align: right;\n",
       "    }\n",
       "</style>\n",
       "<table border=\"1\" class=\"dataframe\">\n",
       "  <thead>\n",
       "    <tr style=\"text-align: right;\">\n",
       "      <th></th>\n",
       "      <th>iteration_id</th>\n",
       "      <th>unique_id</th>\n",
       "      <th>schools</th>\n",
       "      <th>restaurants</th>\n",
       "      <th>hospitals</th>\n",
       "      <th>parks</th>\n",
       "    </tr>\n",
       "  </thead>\n",
       "  <tbody>\n",
       "    <tr>\n",
       "      <th>0</th>\n",
       "      <td>0</td>\n",
       "      <td>5237946</td>\n",
       "      <td>7</td>\n",
       "      <td>4</td>\n",
       "      <td>3</td>\n",
       "      <td>4</td>\n",
       "    </tr>\n",
       "    <tr>\n",
       "      <th>1</th>\n",
       "      <td>1</td>\n",
       "      <td>3875341</td>\n",
       "      <td>12</td>\n",
       "      <td>8</td>\n",
       "      <td>4</td>\n",
       "      <td>8</td>\n",
       "    </tr>\n",
       "    <tr>\n",
       "      <th>2</th>\n",
       "      <td>2</td>\n",
       "      <td>5182996</td>\n",
       "      <td>0</td>\n",
       "      <td>0</td>\n",
       "      <td>0</td>\n",
       "      <td>1</td>\n",
       "    </tr>\n",
       "    <tr>\n",
       "      <th>3</th>\n",
       "      <td>3</td>\n",
       "      <td>3875358</td>\n",
       "      <td>12</td>\n",
       "      <td>8</td>\n",
       "      <td>4</td>\n",
       "      <td>8</td>\n",
       "    </tr>\n",
       "    <tr>\n",
       "      <th>4</th>\n",
       "      <td>4</td>\n",
       "      <td>3651253</td>\n",
       "      <td>6</td>\n",
       "      <td>4</td>\n",
       "      <td>1</td>\n",
       "      <td>4</td>\n",
       "    </tr>\n",
       "    <tr>\n",
       "      <th>...</th>\n",
       "      <td>...</td>\n",
       "      <td>...</td>\n",
       "      <td>...</td>\n",
       "      <td>...</td>\n",
       "      <td>...</td>\n",
       "      <td>...</td>\n",
       "    </tr>\n",
       "    <tr>\n",
       "      <th>13410</th>\n",
       "      <td>4514</td>\n",
       "      <td>1667106</td>\n",
       "      <td>12</td>\n",
       "      <td>17</td>\n",
       "      <td>2</td>\n",
       "      <td>13</td>\n",
       "    </tr>\n",
       "    <tr>\n",
       "      <th>13411</th>\n",
       "      <td>4515</td>\n",
       "      <td>1665314</td>\n",
       "      <td>22</td>\n",
       "      <td>48</td>\n",
       "      <td>2</td>\n",
       "      <td>14</td>\n",
       "    </tr>\n",
       "    <tr>\n",
       "      <th>13412</th>\n",
       "      <td>4516</td>\n",
       "      <td>1664303</td>\n",
       "      <td>26</td>\n",
       "      <td>48</td>\n",
       "      <td>2</td>\n",
       "      <td>11</td>\n",
       "    </tr>\n",
       "    <tr>\n",
       "      <th>13413</th>\n",
       "      <td>0</td>\n",
       "      <td>1945470</td>\n",
       "      <td>23</td>\n",
       "      <td>27</td>\n",
       "      <td>3</td>\n",
       "      <td>14</td>\n",
       "    </tr>\n",
       "    <tr>\n",
       "      <th>13414</th>\n",
       "      <td>1</td>\n",
       "      <td>1724298</td>\n",
       "      <td>48</td>\n",
       "      <td>49</td>\n",
       "      <td>13</td>\n",
       "      <td>23</td>\n",
       "    </tr>\n",
       "  </tbody>\n",
       "</table>\n",
       "<p>13415 rows × 6 columns</p>\n",
       "</div>"
      ],
      "text/plain": [
       "       iteration_id  unique_id  schools  restaurants  hospitals  parks\n",
       "0                 0    5237946        7            4          3      4\n",
       "1                 1    3875341       12            8          4      8\n",
       "2                 2    5182996        0            0          0      1\n",
       "3                 3    3875358       12            8          4      8\n",
       "4                 4    3651253        6            4          1      4\n",
       "...             ...        ...      ...          ...        ...    ...\n",
       "13410          4514    1667106       12           17          2     13\n",
       "13411          4515    1665314       22           48          2     14\n",
       "13412          4516    1664303       26           48          2     11\n",
       "13413             0    1945470       23           27          3     14\n",
       "13414             1    1724298       48           49         13     23\n",
       "\n",
       "[13415 rows x 6 columns]"
      ]
     },
     "execution_count": 63,
     "metadata": {},
     "output_type": "execute_result"
    }
   ],
   "source": [
    "completed.columns = ['iteration_id', 'unique_id', 'schools', 'restaurants', 'hospitals', 'parks']\n",
    "completed"
   ]
  },
  {
   "cell_type": "code",
   "execution_count": 64,
   "id": "941cbdd0",
   "metadata": {},
   "outputs": [
    {
     "data": {
      "text/plain": [
       "[5237946, 3875341, 5182996, 3875358, 3651253]"
      ]
     },
     "execution_count": 64,
     "metadata": {},
     "output_type": "execute_result"
    }
   ],
   "source": [
    "completed_id = completed['unique_id'].values.tolist()\n",
    "completed_id[:5]"
   ]
  },
  {
   "cell_type": "code",
   "execution_count": 65,
   "id": "26685079",
   "metadata": {},
   "outputs": [
    {
     "data": {
      "text/plain": [
       "(13415, 11)"
      ]
     },
     "execution_count": 65,
     "metadata": {},
     "output_type": "execute_result"
    }
   ],
   "source": [
    "df.shape"
   ]
  },
  {
   "cell_type": "code",
   "execution_count": 66,
   "id": "dd9fe0f6",
   "metadata": {},
   "outputs": [],
   "source": [
    "df = df[ ~df['unique_id'].isin(completed_id) ]"
   ]
  },
  {
   "cell_type": "code",
   "execution_count": 67,
   "id": "a2a5fa3f",
   "metadata": {},
   "outputs": [
    {
     "data": {
      "text/html": [
       "<div>\n",
       "<style scoped>\n",
       "    .dataframe tbody tr th:only-of-type {\n",
       "        vertical-align: middle;\n",
       "    }\n",
       "\n",
       "    .dataframe tbody tr th {\n",
       "        vertical-align: top;\n",
       "    }\n",
       "\n",
       "    .dataframe thead th {\n",
       "        text-align: right;\n",
       "    }\n",
       "</style>\n",
       "<table border=\"1\" class=\"dataframe\">\n",
       "  <thead>\n",
       "    <tr style=\"text-align: right;\">\n",
       "      <th></th>\n",
       "      <th>dimensions</th>\n",
       "      <th>num_beds</th>\n",
       "      <th>num_baths</th>\n",
       "      <th>house_type</th>\n",
       "      <th>city</th>\n",
       "      <th>location</th>\n",
       "      <th>area_block</th>\n",
       "      <th>description</th>\n",
       "      <th>url</th>\n",
       "      <th>price</th>\n",
       "      <th>unique_id</th>\n",
       "    </tr>\n",
       "  </thead>\n",
       "  <tbody>\n",
       "  </tbody>\n",
       "</table>\n",
       "</div>"
      ],
      "text/plain": [
       "Empty DataFrame\n",
       "Columns: [dimensions, num_beds, num_baths, house_type, city, location, area_block, description, url, price, unique_id]\n",
       "Index: []"
      ]
     },
     "execution_count": 67,
     "metadata": {},
     "output_type": "execute_result"
    }
   ],
   "source": [
    "df.head()"
   ]
  },
  {
   "cell_type": "code",
   "execution_count": 55,
   "id": "1c39a8f0",
   "metadata": {},
   "outputs": [],
   "source": [
    "df = df.reset_index()"
   ]
  },
  {
   "cell_type": "code",
   "execution_count": 57,
   "id": "c2255ee0",
   "metadata": {},
   "outputs": [
    {
     "data": {
      "application/vnd.jupyter.widget-view+json": {
       "model_id": "e045c90f21f1406da9e7f55b2d794cf7",
       "version_major": 2,
       "version_minor": 0
      },
      "text/plain": [
       "  0%|          | 0/2 [00:00<?, ?it/s]"
      ]
     },
     "metadata": {},
     "output_type": "display_data"
    }
   ],
   "source": [
    "driver = webdriver.Edge(executable_path='driver/msedgedriver.exe')\n",
    "tertiary_scrape = {}\n",
    "bad_id = []\n",
    "\n",
    "for i in tqdm(range(len(df))):\n",
    "    try:\n",
    "        url = df['url'][i]\n",
    "        title = driver.get(url)\n",
    "\n",
    "        # Click on JS Map\n",
    "        driver.find_element_by_xpath('//div[@class=\"_4866b17e\"]').click()\n",
    "        time.sleep(3)\n",
    "\n",
    "        # Click on required tabs and retrieve data\n",
    "        schools = []\n",
    "        restaurants = []\n",
    "        hospitals = []\n",
    "        parks = []\n",
    "\n",
    "        tabs = driver.find_elements_by_xpath('//li[@class=\"a17d0d0d\"]')\n",
    "\n",
    "        for j in range(4):\n",
    "            tabs[j].click()\n",
    "            time.sleep(3)\n",
    "\n",
    "            nearby = driver.find_elements(by='xpath', value='//div[@class=\"daf61ad1\"]')\n",
    "\n",
    "            if j == 0:\n",
    "                for item in nearby:\n",
    "                    schools.append(item.text)\n",
    "\n",
    "            if j == 1:\n",
    "                for item in nearby:\n",
    "                    restaurants.append(item.text)\n",
    "\n",
    "            if j == 2:\n",
    "                for item in nearby:\n",
    "                    hospitals.append(item.text)\n",
    "\n",
    "            if j == 3:\n",
    "                for item in nearby:\n",
    "                    parks.append(item.text) \n",
    "\n",
    "        tertiary_scrape[ df['unique_id'][i] ] = {'schools': len(list(set(schools))),\n",
    "                                                 'restaurants': len(list(set(restaurants))),\n",
    "                                                 'hospitals': len(list(set(hospitals))),\n",
    "                                                 'parks': len(list(set(parks)))}\n",
    "        \n",
    "        fields = [i, df['unique_id'][i], len(list(set(schools))), len(list(set(restaurants))),\n",
    "                                      len(list(set(hospitals))), len(list(set(parks)))]\n",
    "        \n",
    "        with open(r'tertiary.csv', 'a') as f:\n",
    "            writer = csv.writer(f)\n",
    "            writer.writerow(fields)\n",
    "            f.close()\n",
    "            \n",
    "        if i%100 == 0 and i!=0:\n",
    "            print(\"Resting time: 10 mins (To avoid Bot Detection)\")\n",
    "            print()\n",
    "            driver.quit()\n",
    "            for s in tqdm(range(600)):\n",
    "                time.sleep(1)\n",
    "            driver = webdriver.Edge(executable_path='driver/msedgedriver.exe')\n",
    "            \n",
    "    except Exception as e:\n",
    "        print('ID: ' + str(df['unique_id'][i]))\n",
    "        bad_id.append(df['unique_id'][i])\n",
    "        driver.quit()\n",
    "        \n",
    "        print(\"Retrying in: 10 mins\")\n",
    "        for s in tqdm(range(600)):\n",
    "            time.sleep(1)\n",
    "        \n",
    "        \n",
    "        print('Starting New Instance')\n",
    "        print()\n",
    "        \n",
    "        driver = webdriver.Edge(executable_path='driver/msedgedriver.exe')\n",
    "        \n",
    "\n",
    "driver.quit()"
   ]
  },
  {
   "cell_type": "code",
   "execution_count": 58,
   "id": "84cc290f",
   "metadata": {},
   "outputs": [
    {
     "data": {
      "text/plain": [
       "[]"
      ]
     },
     "execution_count": 58,
     "metadata": {},
     "output_type": "execute_result"
    }
   ],
   "source": [
    "bad_id"
   ]
  },
  {
   "cell_type": "code",
   "execution_count": null,
   "id": "bfeb5171",
   "metadata": {},
   "outputs": [],
   "source": []
  }
 ],
 "metadata": {
  "kernelspec": {
   "display_name": "Python 3",
   "language": "python",
   "name": "python3"
  },
  "language_info": {
   "codemirror_mode": {
    "name": "ipython",
    "version": 3
   },
   "file_extension": ".py",
   "mimetype": "text/x-python",
   "name": "python",
   "nbconvert_exporter": "python",
   "pygments_lexer": "ipython3",
   "version": "3.8.8"
  }
 },
 "nbformat": 4,
 "nbformat_minor": 5
}
